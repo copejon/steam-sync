{
 "cells": [
  {
   "cell_type": "code",
   "execution_count": 26,
   "id": "0f1a93f3",
   "metadata": {
    "tags": []
   },
   "outputs": [
    {
     "name": "stdout",
     "output_type": "stream",
     "text": [
      "Requirement already satisfied: anyio==3.6.2 in c:\\users\\gamebox\\workspace\\github.com\\copejon\\steam-sync\\venv\\lib\\site-packages (from -r requirements.txt (line 1)) (3.6.2)\n",
      "Requirement already satisfied: appnope==0.1.3 in c:\\users\\gamebox\\workspace\\github.com\\copejon\\steam-sync\\venv\\lib\\site-packages (from -r requirements.txt (line 2)) (0.1.3)\n",
      "Requirement already satisfied: argon2-cffi==21.3.0 in c:\\users\\gamebox\\workspace\\github.com\\copejon\\steam-sync\\venv\\lib\\site-packages (from -r requirements.txt (line 3)) (21.3.0)\n",
      "Requirement already satisfied: argon2-cffi-bindings==21.2.0 in c:\\users\\gamebox\\workspace\\github.com\\copejon\\steam-sync\\venv\\lib\\site-packages (from -r requirements.txt (line 4)) (21.2.0)\n",
      "Requirement already satisfied: arrow==1.2.3 in c:\\users\\gamebox\\workspace\\github.com\\copejon\\steam-sync\\venv\\lib\\site-packages (from -r requirements.txt (line 5)) (1.2.3)\n",
      "Requirement already satisfied: asttokens==2.2.1 in c:\\users\\gamebox\\workspace\\github.com\\copejon\\steam-sync\\venv\\lib\\site-packages (from -r requirements.txt (line 6)) (2.2.1)\n",
      "Requirement already satisfied: attrs==22.1.0 in c:\\users\\gamebox\\workspace\\github.com\\copejon\\steam-sync\\venv\\lib\\site-packages (from -r requirements.txt (line 7)) (22.1.0)\n",
      "Requirement already satisfied: Babel==2.11.0 in c:\\users\\gamebox\\workspace\\github.com\\copejon\\steam-sync\\venv\\lib\\site-packages (from -r requirements.txt (line 8)) (2.11.0)\n",
      "Requirement already satisfied: backcall==0.2.0 in c:\\users\\gamebox\\workspace\\github.com\\copejon\\steam-sync\\venv\\lib\\site-packages (from -r requirements.txt (line 9)) (0.2.0)\n",
      "Requirement already satisfied: beautifulsoup4==4.11.1 in c:\\users\\gamebox\\workspace\\github.com\\copejon\\steam-sync\\venv\\lib\\site-packages (from -r requirements.txt (line 10)) (4.11.1)\n",
      "Requirement already satisfied: bleach==5.0.1 in c:\\users\\gamebox\\workspace\\github.com\\copejon\\steam-sync\\venv\\lib\\site-packages (from -r requirements.txt (line 11)) (5.0.1)\n",
      "Requirement already satisfied: cachetools==5.2.0 in c:\\users\\gamebox\\workspace\\github.com\\copejon\\steam-sync\\venv\\lib\\site-packages (from -r requirements.txt (line 12)) (5.2.0)\n",
      "Requirement already satisfied: certifi==2022.12.7 in c:\\users\\gamebox\\workspace\\github.com\\copejon\\steam-sync\\venv\\lib\\site-packages (from -r requirements.txt (line 13)) (2022.12.7)\n",
      "Requirement already satisfied: cffi==1.15.1 in c:\\users\\gamebox\\workspace\\github.com\\copejon\\steam-sync\\venv\\lib\\site-packages (from -r requirements.txt (line 14)) (1.15.1)\n",
      "Requirement already satisfied: charset-normalizer==2.1.1 in c:\\users\\gamebox\\workspace\\github.com\\copejon\\steam-sync\\venv\\lib\\site-packages (from -r requirements.txt (line 15)) (2.1.1)\n",
      "Requirement already satisfied: comm==0.1.2 in c:\\users\\gamebox\\workspace\\github.com\\copejon\\steam-sync\\venv\\lib\\site-packages (from -r requirements.txt (line 16)) (0.1.2)\n",
      "Requirement already satisfied: debugpy==1.6.4 in c:\\users\\gamebox\\workspace\\github.com\\copejon\\steam-sync\\venv\\lib\\site-packages (from -r requirements.txt (line 17)) (1.6.4)\n",
      "Requirement already satisfied: decorator==5.1.1 in c:\\users\\gamebox\\workspace\\github.com\\copejon\\steam-sync\\venv\\lib\\site-packages (from -r requirements.txt (line 18)) (5.1.1)\n",
      "Requirement already satisfied: defusedxml==0.7.1 in c:\\users\\gamebox\\workspace\\github.com\\copejon\\steam-sync\\venv\\lib\\site-packages (from -r requirements.txt (line 19)) (0.7.1)\n",
      "Requirement already satisfied: entrypoints==0.4 in c:\\users\\gamebox\\workspace\\github.com\\copejon\\steam-sync\\venv\\lib\\site-packages (from -r requirements.txt (line 20)) (0.4)\n",
      "Requirement already satisfied: executing==1.2.0 in c:\\users\\gamebox\\workspace\\github.com\\copejon\\steam-sync\\venv\\lib\\site-packages (from -r requirements.txt (line 21)) (1.2.0)\n",
      "Requirement already satisfied: fastjsonschema==2.16.2 in c:\\users\\gamebox\\workspace\\github.com\\copejon\\steam-sync\\venv\\lib\\site-packages (from -r requirements.txt (line 22)) (2.16.2)\n",
      "Requirement already satisfied: fqdn==1.5.1 in c:\\users\\gamebox\\workspace\\github.com\\copejon\\steam-sync\\venv\\lib\\site-packages (from -r requirements.txt (line 23)) (1.5.1)\n",
      "Requirement already satisfied: gevent==22.10.2 in c:\\users\\gamebox\\workspace\\github.com\\copejon\\steam-sync\\venv\\lib\\site-packages (from -r requirements.txt (line 24)) (22.10.2)\n",
      "Requirement already satisfied: gevent-eventemitter==2.1 in c:\\users\\gamebox\\workspace\\github.com\\copejon\\steam-sync\\venv\\lib\\site-packages (from -r requirements.txt (line 25)) (2.1)\n",
      "Requirement already satisfied: greenlet==2.0.1 in c:\\users\\gamebox\\workspace\\github.com\\copejon\\steam-sync\\venv\\lib\\site-packages (from -r requirements.txt (line 26)) (2.0.1)\n",
      "Requirement already satisfied: idna==3.4 in c:\\users\\gamebox\\workspace\\github.com\\copejon\\steam-sync\\venv\\lib\\site-packages (from -r requirements.txt (line 27)) (3.4)\n",
      "Requirement already satisfied: ipykernel==6.19.4 in c:\\users\\gamebox\\workspace\\github.com\\copejon\\steam-sync\\venv\\lib\\site-packages (from -r requirements.txt (line 28)) (6.19.4)\n",
      "Requirement already satisfied: ipython==8.7.0 in c:\\users\\gamebox\\workspace\\github.com\\copejon\\steam-sync\\venv\\lib\\site-packages (from -r requirements.txt (line 29)) (8.7.0)\n",
      "Requirement already satisfied: ipython-genutils==0.2.0 in c:\\users\\gamebox\\workspace\\github.com\\copejon\\steam-sync\\venv\\lib\\site-packages (from -r requirements.txt (line 30)) (0.2.0)\n",
      "Requirement already satisfied: ipywidgets==8.0.3 in c:\\users\\gamebox\\workspace\\github.com\\copejon\\steam-sync\\venv\\lib\\site-packages (from -r requirements.txt (line 31)) (8.0.3)\n",
      "Requirement already satisfied: isoduration==20.11.0 in c:\\users\\gamebox\\workspace\\github.com\\copejon\\steam-sync\\venv\\lib\\site-packages (from -r requirements.txt (line 32)) (20.11.0)\n",
      "Requirement already satisfied: jedi==0.17.2 in c:\\users\\gamebox\\workspace\\github.com\\copejon\\steam-sync\\venv\\lib\\site-packages (from -r requirements.txt (line 33)) (0.17.2)\n",
      "Requirement already satisfied: Jinja2==3.1.2 in c:\\users\\gamebox\\workspace\\github.com\\copejon\\steam-sync\\venv\\lib\\site-packages (from -r requirements.txt (line 34)) (3.1.2)\n",
      "Requirement already satisfied: json5==0.9.10 in c:\\users\\gamebox\\workspace\\github.com\\copejon\\steam-sync\\venv\\lib\\site-packages (from -r requirements.txt (line 35)) (0.9.10)\n",
      "Requirement already satisfied: jsonpointer==2.3 in c:\\users\\gamebox\\workspace\\github.com\\copejon\\steam-sync\\venv\\lib\\site-packages (from -r requirements.txt (line 36)) (2.3)\n",
      "Requirement already satisfied: jsonschema==4.17.3 in c:\\users\\gamebox\\workspace\\github.com\\copejon\\steam-sync\\venv\\lib\\site-packages (from -r requirements.txt (line 37)) (4.17.3)\n",
      "Requirement already satisfied: jupyter-contrib-core==0.4.2 in c:\\users\\gamebox\\workspace\\github.com\\copejon\\steam-sync\\venv\\lib\\site-packages (from -r requirements.txt (line 38)) (0.4.2)\n",
      "Requirement already satisfied: jupyter-events==0.5.0 in c:\\users\\gamebox\\workspace\\github.com\\copejon\\steam-sync\\venv\\lib\\site-packages (from -r requirements.txt (line 39)) (0.5.0)\n",
      "Requirement already satisfied: jupyter-http-over-ws==0.0.8 in c:\\users\\gamebox\\workspace\\github.com\\copejon\\steam-sync\\venv\\lib\\site-packages (from -r requirements.txt (line 40)) (0.0.8)\n",
      "Requirement already satisfied: jupyter-nbextensions-configurator==0.6.1 in c:\\users\\gamebox\\workspace\\github.com\\copejon\\steam-sync\\venv\\lib\\site-packages (from -r requirements.txt (line 41)) (0.6.1)\n",
      "Requirement already satisfied: jupyter-tabnine==1.2.3 in c:\\users\\gamebox\\workspace\\github.com\\copejon\\steam-sync\\venv\\lib\\site-packages (from -r requirements.txt (line 42)) (1.2.3)\n",
      "Requirement already satisfied: jupyter_client==7.4.8 in c:\\users\\gamebox\\workspace\\github.com\\copejon\\steam-sync\\venv\\lib\\site-packages (from -r requirements.txt (line 43)) (7.4.8)\n",
      "Requirement already satisfied: jupyter_core==5.1.1 in c:\\users\\gamebox\\workspace\\github.com\\copejon\\steam-sync\\venv\\lib\\site-packages (from -r requirements.txt (line 44)) (5.1.1)\n",
      "Requirement already satisfied: jupyter_server==2.0.5 in c:\\users\\gamebox\\workspace\\github.com\\copejon\\steam-sync\\venv\\lib\\site-packages (from -r requirements.txt (line 45)) (2.0.5)\n",
      "Requirement already satisfied: jupyter_server_terminals==0.4.3 in c:\\users\\gamebox\\workspace\\github.com\\copejon\\steam-sync\\venv\\lib\\site-packages (from -r requirements.txt (line 46)) (0.4.3)\n",
      "Requirement already satisfied: jupyterlab==3.5.2 in c:\\users\\gamebox\\workspace\\github.com\\copejon\\steam-sync\\venv\\lib\\site-packages (from -r requirements.txt (line 47)) (3.5.2)\n",
      "Requirement already satisfied: jupyterlab-pygments==0.2.2 in c:\\users\\gamebox\\workspace\\github.com\\copejon\\steam-sync\\venv\\lib\\site-packages (from -r requirements.txt (line 48)) (0.2.2)\n",
      "Requirement already satisfied: jupyterlab_server==2.17.0 in c:\\users\\gamebox\\workspace\\github.com\\copejon\\steam-sync\\venv\\lib\\site-packages (from -r requirements.txt (line 49)) (2.17.0)\n",
      "Requirement already satisfied: lxml==4.9.2 in c:\\users\\gamebox\\workspace\\github.com\\copejon\\steam-sync\\venv\\lib\\site-packages (from -r requirements.txt (line 50)) (4.9.2)\n",
      "Requirement already satisfied: MarkupSafe==2.1.1 in c:\\users\\gamebox\\workspace\\github.com\\copejon\\steam-sync\\venv\\lib\\site-packages (from -r requirements.txt (line 51)) (2.1.1)\n",
      "Requirement already satisfied: matplotlib-inline==0.1.6 in c:\\users\\gamebox\\workspace\\github.com\\copejon\\steam-sync\\venv\\lib\\site-packages (from -r requirements.txt (line 52)) (0.1.6)\n",
      "Requirement already satisfied: mistune==2.0.4 in c:\\users\\gamebox\\workspace\\github.com\\copejon\\steam-sync\\venv\\lib\\site-packages (from -r requirements.txt (line 53)) (2.0.4)\n",
      "Requirement already satisfied: nbclassic==0.4.8 in c:\\users\\gamebox\\workspace\\github.com\\copejon\\steam-sync\\venv\\lib\\site-packages (from -r requirements.txt (line 54)) (0.4.8)\n",
      "Requirement already satisfied: nbclient==0.7.2 in c:\\users\\gamebox\\workspace\\github.com\\copejon\\steam-sync\\venv\\lib\\site-packages (from -r requirements.txt (line 55)) (0.7.2)\n",
      "Requirement already satisfied: nbconvert==7.2.7 in c:\\users\\gamebox\\workspace\\github.com\\copejon\\steam-sync\\venv\\lib\\site-packages (from -r requirements.txt (line 56)) (7.2.7)\n",
      "Requirement already satisfied: nbformat==5.7.1 in c:\\users\\gamebox\\workspace\\github.com\\copejon\\steam-sync\\venv\\lib\\site-packages (from -r requirements.txt (line 57)) (5.7.1)\n",
      "Requirement already satisfied: nest-asyncio==1.5.6 in c:\\users\\gamebox\\workspace\\github.com\\copejon\\steam-sync\\venv\\lib\\site-packages (from -r requirements.txt (line 58)) (1.5.6)\n",
      "Requirement already satisfied: nitrado==0.0.11 in c:\\users\\gamebox\\workspace\\github.com\\copejon\\steam-sync\\venv\\lib\\site-packages (from -r requirements.txt (line 59)) (0.0.11)\n",
      "Requirement already satisfied: notebook==6.5.2 in c:\\users\\gamebox\\workspace\\github.com\\copejon\\steam-sync\\venv\\lib\\site-packages (from -r requirements.txt (line 60)) (6.5.2)\n",
      "Requirement already satisfied: notebook_shim==0.2.2 in c:\\users\\gamebox\\workspace\\github.com\\copejon\\steam-sync\\venv\\lib\\site-packages (from -r requirements.txt (line 61)) (0.2.2)\n",
      "Requirement already satisfied: packaging==22.0 in c:\\users\\gamebox\\workspace\\github.com\\copejon\\steam-sync\\venv\\lib\\site-packages (from -r requirements.txt (line 62)) (22.0)\n",
      "Requirement already satisfied: pandocfilters==1.5.0 in c:\\users\\gamebox\\workspace\\github.com\\copejon\\steam-sync\\venv\\lib\\site-packages (from -r requirements.txt (line 63)) (1.5.0)\n",
      "Requirement already satisfied: parso==0.7.1 in c:\\users\\gamebox\\workspace\\github.com\\copejon\\steam-sync\\venv\\lib\\site-packages (from -r requirements.txt (line 64)) (0.7.1)\n",
      "Requirement already satisfied: pexpect==4.8.0 in c:\\users\\gamebox\\workspace\\github.com\\copejon\\steam-sync\\venv\\lib\\site-packages (from -r requirements.txt (line 65)) (4.8.0)\n",
      "Requirement already satisfied: pickleshare==0.7.5 in c:\\users\\gamebox\\workspace\\github.com\\copejon\\steam-sync\\venv\\lib\\site-packages (from -r requirements.txt (line 66)) (0.7.5)\n",
      "Requirement already satisfied: platformdirs==2.6.0 in c:\\users\\gamebox\\workspace\\github.com\\copejon\\steam-sync\\venv\\lib\\site-packages (from -r requirements.txt (line 67)) (2.6.0)\n",
      "Requirement already satisfied: pluggy==1.0.0 in c:\\users\\gamebox\\workspace\\github.com\\copejon\\steam-sync\\venv\\lib\\site-packages (from -r requirements.txt (line 68)) (1.0.0)\n",
      "Requirement already satisfied: prometheus-client==0.15.0 in c:\\users\\gamebox\\workspace\\github.com\\copejon\\steam-sync\\venv\\lib\\site-packages (from -r requirements.txt (line 69)) (0.15.0)\n",
      "Requirement already satisfied: prompt-toolkit==3.0.36 in c:\\users\\gamebox\\workspace\\github.com\\copejon\\steam-sync\\venv\\lib\\site-packages (from -r requirements.txt (line 70)) (3.0.36)\n",
      "Requirement already satisfied: protobuf==3.20.3 in c:\\users\\gamebox\\workspace\\github.com\\copejon\\steam-sync\\venv\\lib\\site-packages (from -r requirements.txt (line 71)) (3.20.3)\n",
      "Requirement already satisfied: psutil==5.9.4 in c:\\users\\gamebox\\workspace\\github.com\\copejon\\steam-sync\\venv\\lib\\site-packages (from -r requirements.txt (line 72)) (5.9.4)\n",
      "Requirement already satisfied: ptyprocess==0.7.0 in c:\\users\\gamebox\\workspace\\github.com\\copejon\\steam-sync\\venv\\lib\\site-packages (from -r requirements.txt (line 73)) (0.7.0)\n",
      "Requirement already satisfied: pure-eval==0.2.2 in c:\\users\\gamebox\\workspace\\github.com\\copejon\\steam-sync\\venv\\lib\\site-packages (from -r requirements.txt (line 74)) (0.2.2)\n",
      "Requirement already satisfied: pycparser==2.21 in c:\\users\\gamebox\\workspace\\github.com\\copejon\\steam-sync\\venv\\lib\\site-packages (from -r requirements.txt (line 75)) (2.21)\n",
      "Requirement already satisfied: pycryptodomex==3.16.0 in c:\\users\\gamebox\\workspace\\github.com\\copejon\\steam-sync\\venv\\lib\\site-packages (from -r requirements.txt (line 76)) (3.16.0)\n",
      "Requirement already satisfied: Pygments==2.13.0 in c:\\users\\gamebox\\workspace\\github.com\\copejon\\steam-sync\\venv\\lib\\site-packages (from -r requirements.txt (line 77)) (2.13.0)\n",
      "Requirement already satisfied: pyrsistent==0.19.2 in c:\\users\\gamebox\\workspace\\github.com\\copejon\\steam-sync\\venv\\lib\\site-packages (from -r requirements.txt (line 78)) (0.19.2)\n",
      "Requirement already satisfied: python-dateutil==2.8.2 in c:\\users\\gamebox\\workspace\\github.com\\copejon\\steam-sync\\venv\\lib\\site-packages (from -r requirements.txt (line 79)) (2.8.2)\n",
      "Requirement already satisfied: python-dotenv==0.21.0 in c:\\users\\gamebox\\workspace\\github.com\\copejon\\steam-sync\\venv\\lib\\site-packages (from -r requirements.txt (line 80)) (0.21.0)\n",
      "Requirement already satisfied: python-json-logger==2.0.4 in c:\\users\\gamebox\\workspace\\github.com\\copejon\\steam-sync\\venv\\lib\\site-packages (from -r requirements.txt (line 81)) (2.0.4)\n",
      "Requirement already satisfied: python-jsonrpc-server==0.4.0 in c:\\users\\gamebox\\workspace\\github.com\\copejon\\steam-sync\\venv\\lib\\site-packages (from -r requirements.txt (line 82)) (0.4.0)\n",
      "Requirement already satisfied: python-language-server==0.36.2 in c:\\users\\gamebox\\workspace\\github.com\\copejon\\steam-sync\\venv\\lib\\site-packages (from -r requirements.txt (line 83)) (0.36.2)\n",
      "Requirement already satisfied: pytz==2022.7 in c:\\users\\gamebox\\workspace\\github.com\\copejon\\steam-sync\\venv\\lib\\site-packages (from -r requirements.txt (line 84)) (2022.7)\n",
      "Requirement already satisfied: PyYAML==6.0 in c:\\users\\gamebox\\workspace\\github.com\\copejon\\steam-sync\\venv\\lib\\site-packages (from -r requirements.txt (line 85)) (6.0)\n",
      "Requirement already satisfied: pyzmq==24.0.1 in c:\\users\\gamebox\\workspace\\github.com\\copejon\\steam-sync\\venv\\lib\\site-packages (from -r requirements.txt (line 86)) (24.0.1)\n",
      "Requirement already satisfied: qtconsole==5.4.0 in c:\\users\\gamebox\\workspace\\github.com\\copejon\\steam-sync\\venv\\lib\\site-packages (from -r requirements.txt (line 87)) (5.4.0)\n",
      "Requirement already satisfied: QtPy==2.3.0 in c:\\users\\gamebox\\workspace\\github.com\\copejon\\steam-sync\\venv\\lib\\site-packages (from -r requirements.txt (line 88)) (2.3.0)\n",
      "Requirement already satisfied: requests==2.28.1 in c:\\users\\gamebox\\workspace\\github.com\\copejon\\steam-sync\\venv\\lib\\site-packages (from -r requirements.txt (line 89)) (2.28.1)\n",
      "Requirement already satisfied: rfc3339-validator==0.1.4 in c:\\users\\gamebox\\workspace\\github.com\\copejon\\steam-sync\\venv\\lib\\site-packages (from -r requirements.txt (line 90)) (0.1.4)\n",
      "Requirement already satisfied: rfc3986-validator==0.1.1 in c:\\users\\gamebox\\workspace\\github.com\\copejon\\steam-sync\\venv\\lib\\site-packages (from -r requirements.txt (line 91)) (0.1.1)\n",
      "Requirement already satisfied: Send2Trash==1.8.0 in c:\\users\\gamebox\\workspace\\github.com\\copejon\\steam-sync\\venv\\lib\\site-packages (from -r requirements.txt (line 92)) (1.8.0)\n",
      "Requirement already satisfied: six==1.16.0 in c:\\users\\gamebox\\workspace\\github.com\\copejon\\steam-sync\\venv\\lib\\site-packages (from -r requirements.txt (line 93)) (1.16.0)\n",
      "Requirement already satisfied: sniffio==1.3.0 in c:\\users\\gamebox\\workspace\\github.com\\copejon\\steam-sync\\venv\\lib\\site-packages (from -r requirements.txt (line 94)) (1.3.0)\n",
      "Requirement already satisfied: soupsieve==2.3.2.post1 in c:\\users\\gamebox\\workspace\\github.com\\copejon\\steam-sync\\venv\\lib\\site-packages (from -r requirements.txt (line 95)) (2.3.2.post1)\n",
      "Requirement already satisfied: stack-data==0.6.2 in c:\\users\\gamebox\\workspace\\github.com\\copejon\\steam-sync\\venv\\lib\\site-packages (from -r requirements.txt (line 96)) (0.6.2)\n",
      "Requirement already satisfied: steam==1.4.4 in c:\\users\\gamebox\\workspace\\github.com\\copejon\\steam-sync\\venv\\lib\\site-packages (from -r requirements.txt (line 97)) (1.4.4)\n",
      "Requirement already satisfied: terminado==0.17.1 in c:\\users\\gamebox\\workspace\\github.com\\copejon\\steam-sync\\venv\\lib\\site-packages (from -r requirements.txt (line 98)) (0.17.1)\n",
      "Requirement already satisfied: tinycss2==1.2.1 in c:\\users\\gamebox\\workspace\\github.com\\copejon\\steam-sync\\venv\\lib\\site-packages (from -r requirements.txt (line 99)) (1.2.1)\n",
      "Requirement already satisfied: tomli==2.0.1 in c:\\users\\gamebox\\workspace\\github.com\\copejon\\steam-sync\\venv\\lib\\site-packages (from -r requirements.txt (line 100)) (2.0.1)\n",
      "Requirement already satisfied: tornado==6.2 in c:\\users\\gamebox\\workspace\\github.com\\copejon\\steam-sync\\venv\\lib\\site-packages (from -r requirements.txt (line 101)) (6.2)\n",
      "Requirement already satisfied: traitlets==5.8.0 in c:\\users\\gamebox\\workspace\\github.com\\copejon\\steam-sync\\venv\\lib\\site-packages (from -r requirements.txt (line 102)) (5.8.0)\n",
      "Requirement already satisfied: ujson==5.6.0 in c:\\users\\gamebox\\workspace\\github.com\\copejon\\steam-sync\\venv\\lib\\site-packages (from -r requirements.txt (line 103)) (5.6.0)\n",
      "Requirement already satisfied: uri-template==1.2.0 in c:\\users\\gamebox\\workspace\\github.com\\copejon\\steam-sync\\venv\\lib\\site-packages (from -r requirements.txt (line 104)) (1.2.0)\n",
      "Requirement already satisfied: urllib3==1.26.13 in c:\\users\\gamebox\\workspace\\github.com\\copejon\\steam-sync\\venv\\lib\\site-packages (from -r requirements.txt (line 105)) (1.26.13)\n",
      "Requirement already satisfied: vdf==3.4 in c:\\users\\gamebox\\workspace\\github.com\\copejon\\steam-sync\\venv\\lib\\site-packages (from -r requirements.txt (line 106)) (3.4)\n",
      "Requirement already satisfied: wcwidth==0.2.5 in c:\\users\\gamebox\\workspace\\github.com\\copejon\\steam-sync\\venv\\lib\\site-packages (from -r requirements.txt (line 107)) (0.2.5)\n",
      "Requirement already satisfied: webcolors==1.12 in c:\\users\\gamebox\\workspace\\github.com\\copejon\\steam-sync\\venv\\lib\\site-packages (from -r requirements.txt (line 108)) (1.12)\n",
      "Requirement already satisfied: webencodings==0.5.1 in c:\\users\\gamebox\\workspace\\github.com\\copejon\\steam-sync\\venv\\lib\\site-packages (from -r requirements.txt (line 109)) (0.5.1)\n",
      "Requirement already satisfied: websocket-client==1.4.2 in c:\\users\\gamebox\\workspace\\github.com\\copejon\\steam-sync\\venv\\lib\\site-packages (from -r requirements.txt (line 110)) (1.4.2)\n",
      "Requirement already satisfied: yapf==0.32.0 in c:\\users\\gamebox\\workspace\\github.com\\copejon\\steam-sync\\venv\\lib\\site-packages (from -r requirements.txt (line 111)) (0.32.0)\n",
      "Requirement already satisfied: zope.event==4.6 in c:\\users\\gamebox\\workspace\\github.com\\copejon\\steam-sync\\venv\\lib\\site-packages (from -r requirements.txt (line 112)) (4.6)\n",
      "Requirement already satisfied: zope.interface==5.5.2 in c:\\users\\gamebox\\workspace\\github.com\\copejon\\steam-sync\\venv\\lib\\site-packages (from -r requirements.txt (line 113)) (5.5.2)\n",
      "Requirement already satisfied: setuptools in c:\\users\\gamebox\\workspace\\github.com\\copejon\\steam-sync\\venv\\lib\\site-packages (from gevent==22.10.2->-r requirements.txt (line 24)) (65.6.3)\n",
      "Requirement already satisfied: colorama in c:\\users\\gamebox\\workspace\\github.com\\copejon\\steam-sync\\venv\\lib\\site-packages (from ipython==8.7.0->-r requirements.txt (line 29)) (0.4.6)\n",
      "Requirement already satisfied: widgetsnbextension~=4.0 in c:\\users\\gamebox\\workspace\\github.com\\copejon\\steam-sync\\venv\\lib\\site-packages (from ipywidgets==8.0.3->-r requirements.txt (line 31)) (4.0.5)\n",
      "Requirement already satisfied: jupyterlab-widgets~=3.0 in c:\\users\\gamebox\\workspace\\github.com\\copejon\\steam-sync\\venv\\lib\\site-packages (from ipywidgets==8.0.3->-r requirements.txt (line 31)) (3.0.5)\n",
      "Requirement already satisfied: pywin32>=1.0 in c:\\users\\gamebox\\workspace\\github.com\\copejon\\steam-sync\\venv\\lib\\site-packages (from jupyter_core==5.1.1->-r requirements.txt (line 44)) (305)\n",
      "Requirement already satisfied: pywinpty in c:\\users\\gamebox\\workspace\\github.com\\copejon\\steam-sync\\venv\\lib\\site-packages (from jupyter_server==2.0.5->-r requirements.txt (line 45)) (2.0.9)\n",
      "Requirement already satisfied: wheel in c:\\users\\gamebox\\workspace\\github.com\\copejon\\steam-sync\\venv\\lib\\site-packages (from nitrado==0.0.11->-r requirements.txt (line 59)) (0.38.4)\n",
      "Note: you may need to restart the kernel to use updated packages.\n"
     ]
    }
   ],
   "source": [
    "%pip install -r requirements.txt\n",
    "%config IPCompleter.greedy=True"
   ]
  },
  {
   "cell_type": "markdown",
   "id": "8643bbb6",
   "metadata": {},
   "source": [
    "**1> collate workshop_id to mod_id(s) from source of truth collection**"
   ]
  },
  {
   "cell_type": "code",
   "execution_count": 27,
   "id": "de165324",
   "metadata": {},
   "outputs": [],
   "source": [
    "DEBUG = False\n",
    "_doDebug = input('Debug mode [y/n]: ')\n",
    "if _doDebug.lower() == 'y':\n",
    "    DEBUG = True\n",
    "elif _doDebug != 'n':\n",
    "    print(f'response \"{_doDebug}\" not understood')\n"
   ]
  },
  {
   "cell_type": "code",
   "execution_count": 28,
   "id": "eb5dc1f4",
   "metadata": {
    "tags": []
   },
   "outputs": [
    {
     "name": "stdout",
     "output_type": "stream",
     "text": [
      "user home dir:C:\\Users\\GameBox\n",
      "got upstream collection: [('2687842971', 'Respawn'), ('2685168362', 'MoreDescriptionForTraits4166'), ('1619603097', 'eris_minimap'), ('2875848298', 'BB_CommonSense'), ('2169435993', 'modoptions')]\n"
     ]
    }
   ],
   "source": [
    "# Find and collate workshop_ids: mod_ids, store \n",
    "#data in an collection var\n",
    "import requests\n",
    "import re\n",
    "from os import path\n",
    "\n",
    "collection_id = '2903054110'\n",
    "getCollections = 'https://api.steampowered.com/ISteamRemoteStorage/GetCollectionDetails/v1/?'\n",
    "getFileDetails = 'https://api.steampowered.com/ISteamRemoteStorage/GetPublishedFileDetails/v1/?'\n",
    "\n",
    "home_dir = path.expanduser('~')\n",
    "print(f'user home dir:{home_dir}')\n",
    "\n",
    "# collection contains the resulting list of tuples [(workshop_id, mod_id, mod_id, ...), ...] produced\n",
    "# in this sell.\n",
    "collection = list()\n",
    "\n",
    "# raw_collection is a locally consumed var and contains the post-processed collection metadata response\n",
    "raw_collection = list()\n",
    "with open(path.join(home_dir, '.steam', 'token'), 'r') as f:\n",
    "    auth_header = {'Authentication': f'Bearer {f.read().strip()}'}\n",
    "    resp = requests.post(\n",
    "        getCollections, \n",
    "        headers=auth_header,\n",
    "        data={\n",
    "            'publishedfileids[0]':f'{collection_id}',\n",
    "            'collectioncount': '1',\n",
    "        }\n",
    "    )\n",
    "    raw_collection = resp.json()['response']['collectiondetails']\n",
    "\n",
    "\n",
    "for child in raw_collection[0]['children']:\n",
    "    child_id = child[\"publishedfileid\"]\n",
    "    resp = requests.post(\n",
    "        getFileDetails,\n",
    "        headers=auth_header,\n",
    "        data={\n",
    "            'itemcount': '1',\n",
    "            'publishedfileids[0]': child_id,\n",
    "        }\n",
    "    )\n",
    "    desc = resp.json()['response']['publishedfiledetails'][0]['description']\n",
    "    match = re.findall(r'\\nMod ID: *(\\w+)', desc)\n",
    "    if match is None:\n",
    "        print(f'failed to find matching mod id string, mod file: {child_id}')\n",
    "        quit(1)\n",
    "\n",
    "    o = [child_id]\n",
    "    for m in match:\n",
    "        o.append(m)\n",
    "    collection.append(tuple(o))\n",
    "print(f'got upstream collection: {collection}')"
   ]
  },
  {
   "cell_type": "markdown",
   "id": "bd9bcb47-798c-48b8-9953-3ebc775c1b56",
   "metadata": {},
   "source": [
    "**^^TODO create radial buttons per mod, per variant**\n",
    "\n",
    "**2> Fetch the server config file**"
   ]
  },
  {
   "cell_type": "code",
   "execution_count": 29,
   "id": "a6cc5f71",
   "metadata": {
    "tags": []
   },
   "outputs": [
    {
     "name": "stdout",
     "output_type": "stream",
     "text": [
      "logging into ftp server\n",
      "fetching servertest.ini\n",
      "-rw-------   1 ni2631535_1 11042       15822 Dec 31 22:59 /zomboid/profile/Zomboid/Server/servertest.ini\n"
     ]
    }
   ],
   "source": [
    "from os import path\n",
    "from ftplib import FTP\n",
    "from configparser import ConfigParser\n",
    "import io\n",
    "import re\n",
    "\n",
    "nitrado_dir = path.join(home_dir, \".nitrado\")\n",
    "nitrado_ftp_url = 'usmi440.gamedata.io'\n",
    "ftp_config = ConfigParser()\n",
    "ftp_config.read(path.join(nitrado_dir, \"ftp.ini\"))\n",
    "\n",
    "pz_cfg_src = '/zomboid/profile/Zomboid/Server/servertest.ini'\n",
    "\n",
    "buf = io.BytesIO()\n",
    "with FTP(nitrado_ftp_url) as ftp:\n",
    "    print('logging into ftp server')\n",
    "    ftp.login(\n",
    "        user = ftp_config['DEFAULT']['username'], \n",
    "        passwd = ftp_config['DEFAULT']['password']\n",
    "    )\n",
    "    print('fetching servertest.ini')\n",
    "    try:\n",
    "        ftp.retrlines(f'LIST {pz_cfg_src}')\n",
    "        ftp.retrbinary(f'RETR {pz_cfg_src}', buf.write)\n",
    "    except Exception as e:\n",
    "        print(e)\n",
    "        quit()\n",
    "    buf.seek(0)"
   ]
  },
  {
   "cell_type": "markdown",
   "id": "31c7f877-5a0d-47bc-a445-c013f9b43342",
   "metadata": {},
   "source": [
    "**3> Merge the collection into the pz_config vars**"
   ]
  },
  {
   "cell_type": "code",
   "execution_count": 30,
   "id": "c8a3b7ef",
   "metadata": {
    "tags": []
   },
   "outputs": [
    {
     "name": "stdout",
     "output_type": "stream",
     "text": [
      "Found current mods: ['']\n",
      "Found current WSIs: ['']\n",
      "processing: 2687842971: ('Respawn',)\n",
      "2687842971(Respawn) not found, appending\n",
      "processing: 2685168362: ('MoreDescriptionForTraits4166',)\n",
      "2685168362(MoreDescriptionForTraits4166) not found, appending\n",
      "processing: 1619603097: ('eris_minimap',)\n",
      "1619603097(eris_minimap) not found, appending\n",
      "processing: 2875848298: ('BB_CommonSense',)\n",
      "2875848298(BB_CommonSense) not found, appending\n",
      "processing: 2169435993: ('modoptions',)\n",
      "2169435993(modoptions) not found, appending\n",
      "workshopitem () not found in existing config, removing\n",
      "Sync completed\n",
      "PROCESSED mods: ['Respawn', 'MoreDescriptionForTraits4166', 'eris_minimap', 'BB_CommonSense', 'modoptions']\n",
      "PROCESSED WSIs  : ['2687842971', '2685168362', '1619603097', '2875848298', '2169435993']\n"
     ]
    }
   ],
   "source": [
    "import re\n",
    "\n",
    "list_sep = ';'\n",
    "\n",
    "# cur_[mods|wsi] contains the mods|WSIs currently enabled on the server\n",
    "cur_mods = re.search(r'Mods=(.*)', buf.getvalue().decode()).group(0)\n",
    "cur_mods = re.sub(r'Mods=(.*)', r'\\1', cur_mods).split(list_sep)\n",
    "cur_wsi = re.findall(r'WorkshopItems=([0-9;]*)', buf.getvalue().decode())[1].split(list_sep) # we only want the 2nd occurance of the string, first found is an example stub\n",
    "\n",
    "print(f'Found current mods: {cur_mods}')\n",
    "print(f'Found current WSIs: {cur_wsi}')\n",
    "\n",
    "# Add new mods (i.e. mods not found in the config)\n",
    "for c in collection:\n",
    "    ws_item = c[0]\n",
    "    mods = c[1:]\n",
    "    print(f'processing: {ws_item}: {mods}')\n",
    "    if ws_item not in cur_wsi:\n",
    "        if ws_item.strip() == \"\":\n",
    "            print('skipping null entry')\n",
    "            continue\n",
    "\n",
    "        print(f\"{ws_item}({mods[0]}) not found, appending\")\n",
    "        cur_wsi.append(ws_item)\n",
    "        cur_mods.append(mods[0])\n",
    "    else:\n",
    "        print(f'{ws_item} already added, skipping')\n",
    "        continue\n",
    "        \n",
    "# Remove old mods (i.e. mods not found in the collection)\n",
    "for i, wsi in enumerate(cur_wsi):\n",
    "    # TODO this should not default to first mod variant.\n",
    "    if wsi not in [o[0] for o in collection]:\n",
    "        print(f'workshopitem {cur_wsi[i]}({cur_mods[i]}) not found in existing config, removing')\n",
    "        del cur_wsi[i]\n",
    "        del cur_mods[i]\n",
    "\n",
    "print(\"Sync completed\")\n",
    "print(f'PROCESSED mods: {cur_mods}')\n",
    "print(f'PROCESSED WSIs  : {cur_wsi}')\n",
    "\n",
    "if len(cur_mods) is not len(cur_wsi):\n",
    "    print(f'something went wrong, len(merge_mods)[{len(cur_mods)}] != len(merge_ws_items)[{len(cur_wsi)}]')\n",
    "    quit(1)"
   ]
  },
  {
   "cell_type": "markdown",
   "id": "cffd896d-c6a0-4799-ac80-11ab5503288b",
   "metadata": {},
   "source": [
    "**4> Write the pz config back to the ftp**"
   ]
  },
  {
   "cell_type": "code",
   "execution_count": 33,
   "id": "09430aa7-b195-4ede-b638-f896a9011e67",
   "metadata": {},
   "outputs": [
    {
     "name": "stdout",
     "output_type": "stream",
     "text": [
      "updating server config file\n",
      "writing out config\n",
      "Mods=Respawn,MoreDescriptionForTraits4166,eris_minimap,BB_CommonSense,modoptions\n",
      "WorkshopItems=2687842971;2685168362;1619603097;2875848298;2169435993\n"
     ]
    }
   ],
   "source": [
    "import tempfile\n",
    "from io import SEEK_SET\n",
    "import os\n",
    "\n",
    "list_sep=';'\n",
    "\n",
    "\n",
    "mods_str = ','.join(cur_mods)\n",
    "wsi_str = list_sep.join(cur_wsi)\n",
    "\n",
    "print('updating server config file')\n",
    "out_cfg = re.sub(fr'(\\nMods=).*', repl=fr'\\1{mods_str}', string=buf.getvalue().decode())\n",
    "out_cfg = re.sub(fr'(\\nWorkshopItems)=.*', repl=fr'\\1={wsi_str}', string=out_cfg)\n",
    "\n",
    "# print(f'out_cfg chunk: {out_cfg[12180:121100].encode()}')\n",
    "if len(out_cfg.strip()) == 0:\n",
    "    print('got an empty config string, bailing out')\n",
    "    quit(1)\n",
    "\n",
    "with FTP(nitrado_ftp_url) as ftp:\n",
    "    print('writing out config')\n",
    "    ftp.login(\n",
    "        user = ftp_config['DEFAULT']['username'],\n",
    "        passwd = ftp_config['DEFAULT']['password']\n",
    "    )\n",
    "    out_buf = io.BytesIO()\n",
    "    out_buf.write(out_cfg.encode(encoding='utf-8'))\n",
    "    out_buf.seek(0, SEEK_SET)\n",
    "    if DEBUG:\n",
    "        # print(f'out_buf:\\n{out_buf.getvalue()}')\n",
    "        with open('servertest.ini', 'w', encoding='utf-8') as f:\n",
    "            f.write(out_buf.getvalue())\n",
    "        print('DEBUG was enabled, ending processing here')\n",
    "    elif len(out_buf.getvalue().strip()) == 0:\n",
    "        print('generated busted file, quitting without writing')\n",
    "    else:\n",
    "        print(f'Mods={mods_str}')\n",
    "        print(f'WorkshopItems={wsi_str}')\n",
    "        # def encodeLine(l:str) -> bytes:\n",
    "        #     return l.encode(encoding='utf-8')\n",
    "        # print('transmitting to ftp remote')\n",
    "        # ftp.storlines(cmd=f'STOR {pz_cfg_src}', fp=out_buf)"
   ]
  },
  {
   "cell_type": "code",
   "execution_count": null,
   "id": "c2564fe3",
   "metadata": {},
   "outputs": [],
   "source": []
  },
  {
   "cell_type": "code",
   "execution_count": null,
   "id": "ed1cc364",
   "metadata": {},
   "outputs": [],
   "source": []
  }
 ],
 "metadata": {
  "kernelspec": {
   "display_name": "Python 3 (ipykernel)",
   "language": "python",
   "name": "python3"
  },
  "language_info": {
   "codemirror_mode": {
    "name": "ipython",
    "version": 3
   },
   "file_extension": ".py",
   "mimetype": "text/x-python",
   "name": "python",
   "nbconvert_exporter": "python",
   "pygments_lexer": "ipython3",
   "version": "3.10.7"
  },
  "vscode": {
   "interpreter": {
    "hash": "9eff8b61c29c73371c0b085139175c0b838fc89e2c580662ee0d556e5c6992e2"
   }
  }
 },
 "nbformat": 4,
 "nbformat_minor": 5
}
