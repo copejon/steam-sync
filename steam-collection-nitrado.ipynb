{
 "cells": [
  {
   "cell_type": "code",
   "execution_count": 1,
   "id": "0f1a93f3",
   "metadata": {
    "collapsed": true,
    "jupyter": {
     "outputs_hidden": true
    },
    "tags": []
   },
   "outputs": [
    {
     "name": "stdout",
     "output_type": "stream",
     "text": [
      "Requirement already satisfied: nitrado in /Users/jcope/Workspace/steam/venv/lib/python3.10/site-packages (0.0.11)\n",
      "Requirement already satisfied: steam[client] in /Users/jcope/Workspace/steam/venv/lib/python3.10/site-packages (1.4.4)\n",
      "Requirement already satisfied: requests in /Users/jcope/Workspace/steam/venv/lib/python3.10/site-packages (2.28.1)\n",
      "Requirement already satisfied: python-dotenv in /Users/jcope/Workspace/steam/venv/lib/python3.10/site-packages (0.21.0)\n",
      "Requirement already satisfied: wheel in /Users/jcope/Workspace/steam/venv/lib/python3.10/site-packages (from nitrado) (0.38.4)\n",
      "Requirement already satisfied: cachetools>=3.0.0 in /Users/jcope/Workspace/steam/venv/lib/python3.10/site-packages (from steam[client]) (5.2.0)\n",
      "Requirement already satisfied: vdf>=3.3 in /Users/jcope/Workspace/steam/venv/lib/python3.10/site-packages (from steam[client]) (3.4)\n",
      "Requirement already satisfied: pycryptodomex>=3.7.0 in /Users/jcope/Workspace/steam/venv/lib/python3.10/site-packages (from steam[client]) (3.16.0)\n",
      "Requirement already satisfied: six>=1.10 in /Users/jcope/Workspace/steam/venv/lib/python3.10/site-packages (from steam[client]) (1.16.0)\n",
      "Requirement already satisfied: gevent>=1.3.0 in /Users/jcope/Workspace/steam/venv/lib/python3.10/site-packages (from steam[client]) (22.10.2)\n",
      "Requirement already satisfied: protobuf~=3.0 in /Users/jcope/Workspace/steam/venv/lib/python3.10/site-packages (from steam[client]) (3.20.3)\n",
      "Requirement already satisfied: gevent-eventemitter~=2.1 in /Users/jcope/Workspace/steam/venv/lib/python3.10/site-packages (from steam[client]) (2.1)\n",
      "Requirement already satisfied: charset-normalizer<3,>=2 in /Users/jcope/Workspace/steam/venv/lib/python3.10/site-packages (from requests) (2.1.1)\n",
      "Requirement already satisfied: certifi>=2017.4.17 in /Users/jcope/Workspace/steam/venv/lib/python3.10/site-packages (from requests) (2022.12.7)\n",
      "Requirement already satisfied: urllib3<1.27,>=1.21.1 in /Users/jcope/Workspace/steam/venv/lib/python3.10/site-packages (from requests) (1.26.13)\n",
      "Requirement already satisfied: idna<4,>=2.5 in /Users/jcope/Workspace/steam/venv/lib/python3.10/site-packages (from requests) (3.4)\n",
      "Requirement already satisfied: setuptools in /Users/jcope/Workspace/steam/venv/lib/python3.10/site-packages (from gevent>=1.3.0->steam[client]) (65.4.1)\n",
      "Requirement already satisfied: zope.interface in /Users/jcope/Workspace/steam/venv/lib/python3.10/site-packages (from gevent>=1.3.0->steam[client]) (5.5.2)\n",
      "Requirement already satisfied: zope.event in /Users/jcope/Workspace/steam/venv/lib/python3.10/site-packages (from gevent>=1.3.0->steam[client]) (4.6)\n",
      "Requirement already satisfied: greenlet>=2.0.0 in /Users/jcope/Workspace/steam/venv/lib/python3.10/site-packages (from gevent>=1.3.0->steam[client]) (2.0.1)\n"
     ]
    }
   ],
   "source": [
    "!pip install nitrado \"steam[client]\" requests python-dotenv\n",
    "%config IPCompleter.greedy=True"
   ]
  },
  {
   "cell_type": "markdown",
   "id": "8643bbb6",
   "metadata": {},
   "source": [
    "**1> collate workshop_id to mod_id(s) from source of truth collection**"
   ]
  },
  {
   "cell_type": "code",
   "execution_count": 2,
   "id": "eb5dc1f4",
   "metadata": {
    "collapsed": true,
    "jupyter": {
     "outputs_hidden": true
    },
    "tags": []
   },
   "outputs": [
    {
     "name": "stdout",
     "output_type": "stream",
     "text": [
      "['2901552077', 'mrnvsbhltr', 'mrnvsbhltrvn', 'mrnvsbhltwc']\n",
      "['2820757649', '10YL_ALL', '10YL_HIGH', '10YL_LOW', '10YL_MAPS', '10YL_MEDIUM', '10YL_VH']\n",
      "['2901962885', 'REORDER_CONTAINERS']\n",
      "['2629286881', 'MilPoncho']\n",
      "['2313387159', 'BetterSortCC']\n",
      "['2282429356', 'autotsartrailers']\n",
      "['2732662310', 'improvedhairmenu']\n",
      "['1619603097', 'eris_minimap']\n",
      "['2423906082', 'BCGTools']\n",
      "['2487022075', 'TMC_TrueActions']\n",
      "['499795221', 'cheatmenu', 'cheatmenu']\n",
      "['2195155059', 'WestPointExpansion']\n",
      "['2863949128', 'CanteensAndBottles']\n",
      "['2864231031', 'SlowConsumption']\n",
      "['2701170568', 'ExtraMapSymbols', 'ExtraMapSymbolsUI']\n",
      "['2875848298', 'BB_CommonSense']\n",
      "['2874678809', 'Lingering']\n",
      "['2685168362', 'MoreDescriptionForTraits4166']\n",
      "['2902192016', 'TSW_ScreamsOfPain']\n"
     ]
    }
   ],
   "source": [
    "# Find and collate workshop_ids: mod_ids, store \n",
    "#data in an output var\n",
    "import requests\n",
    "import subprocess\n",
    "import re\n",
    "from os import path\n",
    "\n",
    "collection_id = '2903054110'\n",
    "getCollections = 'https://api.steampowered.com/ISteamRemoteStorage/GetCollectionDetails/v1/?'\n",
    "getFileDetails = 'https://api.steampowered.com/ISteamRemoteStorage/GetPublishedFileDetails/v1/?'\n",
    "\n",
    "\n",
    "home_dir = path.expanduser('~')\n",
    "\n",
    "# output contains the resulting list of tuples [(workshop_id, mod_id, mod_id, ...), ...] produced\n",
    "# in this sell.\n",
    "output = list()\n",
    "\n",
    "# collection_data is a locally consumed var and contains the post-processed collection metadata response\n",
    "collection_data = list()\n",
    "with open(path.join(home_dir, '.steam', 'token'), 'r') as f:\n",
    "    auth_header = {'Authentication': f'Bearer {f.read().strip()}'}\n",
    "    resp = requests.post(\n",
    "        getCollections, \n",
    "        headers=auth_header,\n",
    "        data={\n",
    "            'publishedfileids[0]':f'{collection_id}',\n",
    "            'collectioncount': '1',\n",
    "        }\n",
    "    )\n",
    "    collection_data = resp.json()['response']['collectiondetails']\n",
    "\n",
    "\n",
    "for child in collection_data[0]['children']:\n",
    "    child_id = child[\"publishedfileid\"]\n",
    "    resp = requests.post(\n",
    "        getFileDetails,\n",
    "        headers=auth_header,\n",
    "        data={\n",
    "            'itemcount': '1',\n",
    "            'publishedfileids[0]': child_id,\n",
    "        }\n",
    "    )\n",
    "    desc = resp.json()['response']['publishedfiledetails'][0]['description']\n",
    "    match = re.findall(r'\\nMod ID: *(\\w+)', desc)\n",
    "    if match is None:\n",
    "        print(f'failed to find matching mod id string, mod file: {child_id}')\n",
    "        quit(1)\n",
    "\n",
    "    o = [child_id]\n",
    "    for m in match:\n",
    "        o.append(m)\n",
    "    print(o)\n",
    "    output.append(tuple(o))"
   ]
  },
  {
   "cell_type": "markdown",
   "id": "bd9bcb47-798c-48b8-9953-3ebc775c1b56",
   "metadata": {},
   "source": [
    "**^^TODO create radial buttons per mod, per variant**\n",
    "\n",
    "**2> Fetch the server config file**"
   ]
  },
  {
   "cell_type": "code",
   "execution_count": 3,
   "id": "a6cc5f71",
   "metadata": {
    "tags": []
   },
   "outputs": [],
   "source": [
    "from os import path\n",
    "from ftplib import FTP\n",
    "from configparser import ConfigParser, MissingSectionHeaderError\n",
    "import io\n",
    "import re\n",
    "\n",
    "nitrado_dir = path.join(home_dir, \".nitrado\")\n",
    "nitrado_ftp_url = 'usmi440.gamedata.io'\n",
    "ftp_config = ConfigParser()\n",
    "ftp_config.read(path.join(nitrado_dir, \"ftp.ini\"))\n",
    "section = 'dummy'\n",
    "\n",
    "\n",
    "pz_cfg_src = path.join('/zomboid/profile/Zomboid/Server/servertest.ini')\n",
    "pz_config = ConfigParser(allow_no_value=True)\n",
    "\n",
    "buf = io.BytesIO()\n",
    "buf.write(f'[{section}]\\n'.encode())\n",
    "with FTP(nitrado_ftp_url) as ftp:\n",
    "    ftp.login(\n",
    "        user = ftp_config['DEFAULT']['username'], \n",
    "        passwd = ftp_config['DEFAULT']['password']\n",
    "    )\n",
    "    ftp.retrbinary(f'RETR {pz_cfg_src}', buf.write)\n",
    "    buf.seek(0)\n",
    "\n",
    "# Remember to remove the dummy section header before writing file to ftp\n",
    "pz_config.read_string(buf.read().decode())"
   ]
  },
  {
   "cell_type": "markdown",
   "id": "31c7f877-5a0d-47bc-a445-c013f9b43342",
   "metadata": {},
   "source": [
    "**3> Merge the collection into the pz_config vars**"
   ]
  },
  {
   "cell_type": "code",
   "execution_count": 9,
   "id": "c8a3b7ef",
   "metadata": {
    "collapsed": true,
    "jupyter": {
     "outputs_hidden": true
    },
    "tags": []
   },
   "outputs": [
    {
     "name": "stdout",
     "output_type": "stream",
     "text": [
      "[('pvp', 'true'), ('pauseempty', 'true'), ('globalchat', 'true'), ('chatstreams', 's,r,a,w,y,sh,f,all'), ('open', 'true'), ('serverwelcomemessage', '<RGB:1,0,0> Welcome to Project Zomboid MP ! to chat locally press \"t\", to global chat press \"y\" or add \"/all\" before chatting <LINE> Press /help to have a list of server commands <LINE> <RGB:1,1,1>'), ('autocreateuserinwhitelist', 'false'), ('displayusername', 'true'), ('showfirstandlastname', 'false'), ('spawnpoint', '0,0,0'), ('safetysystem', 'true'), ('showsafety', 'true'), ('safetytoggletimer', '100'), ('safetycooldowntimer', '120'), ('spawnitems', ''), ('defaultport', '21800'), ('udpport', '21801'), ('resetid', '354415'), ('mods', 'MoreDescriptionForTraits4166,mrnvsbhltr,10YL_ALL,REORDER_CONTAINERS,MilPoncho,BetterSortCC,autotsartrailers,improvedhairmenu,eris_minimap,BCGTools,TMC_TrueActions,cheatmenu,WestPointExpansion,CanteensAndBottles,SlowConsumption,ExtraMapSymbols,BB_CommonSense,Lingering,TSW_ScreamsOfPain'), ('map', 'Muldraugh, KY'), ('doluachecksum', 'true'), ('denyloginonoverloadedserver', 'true'), ('public', 'false'), ('publicname', 'We all gonna die'), ('publicdescription', ''), ('maxplayers', '4'), ('pinglimit', '400'), ('hoursforlootrespawn', '0'), ('maxitemsforlootrespawn', '4'), ('constructionpreventslootrespawn', 'true'), ('dropoffwhitelistafterdeath', 'false'), ('nofire', 'false'), ('announcedeath', 'false'), ('minutesperpage', '1.0'), ('saveworldeveryminutes', '0'), ('playersafehouse', 'true'), ('adminsafehouse', 'false'), ('safehouseallowtrepass', 'true'), ('safehouseallowfire', 'true'), ('safehouseallowloot', 'true'), ('safehouseallowrespawn', 'true'), ('safehousedaysurvivedtoclaim', '0'), ('safehouseremovaltime', '999999'), ('safehouseallownonresidential', 'false'), ('allowdestructionbysledgehammer', 'true'), ('sledgehammeronlyinsafehouse', 'false'), ('kickfastplayers', 'false'), ('serverplayerid', '1024358461'), ('rconport', '27015'), ('rconpassword', ''), ('discordenable', 'true'), ('discordtoken', '5f85c0397a04ef5942d17c253d46a6029dbbf3b4cd5d6ee3da61534f035d2719'), ('discordchannel', 'general'), ('discordchannelid', ''), ('password', '1325'), ('maxaccountsperuser', '0'), ('allowcoop', 'true'), ('sleepallowed', 'true'), ('sleepneeded', 'false'), ('knockeddownallowed', 'true'), ('sneakmodehidefromotherplayers', 'true'), ('workshopitems', '2685168362;2901552077;2820757649;2901962885;2629286881;2313387159;2282429356;2732662310;1619603097;2423906082;2487022075;499795221;2195155059;2863949128;2864231031;2701170568;2875848298;2874678809;2902192016'), ('steamscoreboard', 'true'), ('steamvac', 'true'), ('upnp', 'false'), ('voiceenable', 'true'), ('voicemindistance', '10.0'), ('voicemaxdistance', '100.0'), ('voice3d', 'true'), ('speedlimit', '70.0'), ('loginqueueenabled', 'false'), ('loginqueueconnecttimeout', '60'), ('server_browser_announced_ip', '134.255.240.225'), ('playerrespawnwithself', 'true'), ('playerrespawnwithother', 'false'), ('fastforwardmultiplier', '40.0'), ('disablesafehousewhenplayerconnected', 'false'), ('faction', 'true'), ('factiondaysurvivedtocreate', '0'), ('factionplayersrequiredfortag', '1'), ('disableradiostaff', 'false'), ('disableradioadmin', 'false'), ('disableradiogm', 'false'), ('disableradiooverseer', 'false'), ('disableradiomoderator', 'false'), ('disableradioinvisible', 'false'), ('clientcommandfilter', '-vehicle.*'), ('clientactionlogs', 'ISEnterVehicle'), ('perklogs', 'true'), ('itemnumberslimitpercontainer', '0'), ('bloodsplatlifespandays', '30'), ('allownonasciiusername', 'false'), ('bankickglobalsound', 'true'), ('removeplayercorpsesoncorpseremoval', 'false'), ('trashdeleteall', 'true'), ('pvpmeleewhilehitreaction', 'false'), ('mouseovertoseedisplayname', 'true'), ('hideplayersbehindyou', 'true'), ('pvpmeleedamagemodifier', '30.0'), ('pvpfirearmdamagemodifier', '50.0'), ('carengineattractionmodifier', '0.5'), ('playerbumpplayer', 'false'), ('mapremoteplayervisibility', '1'), ('backupscount', '5'), ('backupsonstart', 'true'), ('backupsonversionchange', 'true'), ('backupsperiod', '0'), ('anticheatprotectiontype1', 'false'), ('anticheatprotectiontype2', 'false'), ('anticheatprotectiontype3', 'false'), ('anticheatprotectiontype4', 'false'), ('anticheatprotectiontype5', 'false'), ('anticheatprotectiontype6', 'false'), ('anticheatprotectiontype7', 'false'), ('anticheatprotectiontype8', 'false'), ('anticheatprotectiontype9', 'false'), ('anticheatprotectiontype10', 'false'), ('anticheatprotectiontype11', 'false'), ('anticheatprotectiontype12', 'false'), ('anticheatprotectiontype13', 'false'), ('anticheatprotectiontype14', 'false'), ('anticheatprotectiontype15', 'false'), ('anticheatprotectiontype16', 'false'), ('anticheatprotectiontype17', 'false'), ('anticheatprotectiontype18', 'false'), ('anticheatprotectiontype19', 'false'), ('anticheatprotectiontype20', 'false'), ('anticheatprotectiontype21', 'false'), ('anticheatprotectiontype22', 'false'), ('anticheatprotectiontype23', 'false'), ('anticheatprotectiontype24', 'false'), ('anticheatprotectiontype2thresholdmultiplier', '3.0'), ('anticheatprotectiontype3thresholdmultiplier', '1.0'), ('anticheatprotectiontype4thresholdmultiplier', '1.0'), ('anticheatprotectiontype9thresholdmultiplier', '1.0'), ('anticheatprotectiontype15thresholdmultiplier', '1.0'), ('anticheatprotectiontype20thresholdmultiplier', '1.0'), ('anticheatprotectiontype22thresholdmultiplier', '1.0'), ('anticheatprotectiontype24thresholdmultiplier', '6.0')]\n"
     ]
    }
   ],
   "source": [
    "mod_list_sep = ','\n",
    "ws_item_sep = ';'\n",
    "\n",
    "\n",
    "merge_mods = pz_config[f'{section}']['mods'].split(mod_list_sep)\n",
    "merge_ws_items = pz_config[f'{section}']['workshopitems'].split(ws_item_sep)\n",
    "\n",
    "# Add new mods (i.e. mods not found in the config)\n",
    "for o in output:\n",
    "    ws_item = o[0]\n",
    "    mods = o[1:]\n",
    "    if ws_item not in merge_ws_items:\n",
    "        print(f\"{ws_item}({mods[0]}) not found, appending\")\n",
    "        merge_ws_items.append(ws_item)\n",
    "        merge_mods.append(mods[0])\n",
    "    else:\n",
    "        continue\n",
    "        print(f'{ws_item} already added, skipping')\n",
    "        \n",
    "# Remove old mods (i.e. mods not found in the collection)\n",
    "for i in range(len(merge_ws_items) - 1):\n",
    "    if i < 0:\n",
    "        print('got zero len list')\n",
    "        quit()\n",
    "    if merge_ws_items[i] not in [o[0] for o in output]:\n",
    "        print(f'workshopitem {merge_ws_items[i]}({merge_mods[i]}) not found in existing config, removing')\n",
    "        del merge_ws_items[i]\n",
    "        del merge_mods[i]\n",
    "        \n",
    "if len(merge_mods) is not len(merge_ws_items):\n",
    "    print(f'something went wrong, len(merge_mods)[{len(merge_mods)}] != len(merge_ws_items)[{len(merge_ws_items)}]')\n",
    "    quit(1)\n",
    "\n",
    "#TODO doing something wrong here, not correctly assigned?\n",
    "pz_config.set(f'{section}', 'Workshopitems', ws_item_sep.join(merge_ws_items))\n",
    "pz_config.set(f'{section}', 'Mods', mod_list_sep.join(merge_mods))\n",
    "\n",
    "# We're ready to go"
   ]
  },
  {
   "cell_type": "code",
   "execution_count": null,
   "id": "f11854de-3460-4a79-ad02-99c9c98095b6",
   "metadata": {},
   "outputs": [],
   "source": []
  },
  {
   "cell_type": "code",
   "execution_count": 12,
   "id": "8e08fbb9-e80b-46ec-aa54-802ea72ba276",
   "metadata": {},
   "outputs": [
    {
     "name": "stdout",
     "output_type": "stream",
     "text": [
      "Should we push?\n"
     ]
    },
    {
     "name": "stdin",
     "output_type": "stream",
     "text": [
      "press [enter] \n"
     ]
    },
    {
     "data": {
      "text/plain": [
       "''"
      ]
     },
     "execution_count": 12,
     "metadata": {},
     "output_type": "execute_result"
    }
   ],
   "source": [
    "print('Should we push?')\n",
    "input('press [enter]')"
   ]
  },
  {
   "cell_type": "markdown",
   "id": "cffd896d-c6a0-4799-ac80-11ab5503288b",
   "metadata": {},
   "source": [
    "**4> Write the pz config back to the ftp**"
   ]
  },
  {
   "cell_type": "code",
   "execution_count": 50,
   "id": "09430aa7-b195-4ede-b638-f896a9011e67",
   "metadata": {},
   "outputs": [
    {
     "ename": "TypeError",
     "evalue": "a bytes-like object is required, not 'str'",
     "output_type": "error",
     "traceback": [
      "\u001b[0;31m---------------------------------------------------------------------------\u001b[0m",
      "\u001b[0;31mTypeError\u001b[0m                                 Traceback (most recent call last)",
      "Cell \u001b[0;32mIn[50], line 12\u001b[0m\n\u001b[1;32m      9\u001b[0m     pz_config\u001b[38;5;241m.\u001b[39mwrite(f)\n\u001b[1;32m     11\u001b[0m \u001b[38;5;28;01mwith\u001b[39;00m \u001b[38;5;28mopen\u001b[39m(\u001b[38;5;124m'\u001b[39m\u001b[38;5;124mtest.ini\u001b[39m\u001b[38;5;124m'\u001b[39m, \u001b[38;5;124m'\u001b[39m\u001b[38;5;124mrb\u001b[39m\u001b[38;5;124m'\u001b[39m) \u001b[38;5;28;01mas\u001b[39;00m f:\n\u001b[0;32m---> 12\u001b[0m     \u001b[43mftp\u001b[49m\u001b[38;5;241;43m.\u001b[39;49m\u001b[43mstorlines\u001b[49m\u001b[43m(\u001b[49m\u001b[43mcmd\u001b[49m\u001b[38;5;241;43m=\u001b[39;49m\u001b[38;5;124;43mb\u001b[39;49m\u001b[38;5;124;43m'\u001b[39;49m\u001b[38;5;124;43mSTOR /foobar.txt\u001b[39;49m\u001b[38;5;124;43m'\u001b[39;49m\u001b[43m,\u001b[49m\u001b[43m \u001b[49m\u001b[43mfp\u001b[49m\u001b[38;5;241;43m=\u001b[39;49m\u001b[43mf\u001b[49m\u001b[43m)\u001b[49m\n",
      "File \u001b[0;32m/opt/homebrew/Cellar/python@3.10/3.10.8/Frameworks/Python.framework/Versions/3.10/lib/python3.10/ftplib.py:524\u001b[0m, in \u001b[0;36mFTP.storlines\u001b[0;34m(self, cmd, fp, callback)\u001b[0m\n\u001b[1;32m    512\u001b[0m \u001b[38;5;124;03m\"\"\"Store a file in line mode.  A new port is created for you.\u001b[39;00m\n\u001b[1;32m    513\u001b[0m \n\u001b[1;32m    514\u001b[0m \u001b[38;5;124;03mArgs:\u001b[39;00m\n\u001b[0;32m   (...)\u001b[0m\n\u001b[1;32m    521\u001b[0m \u001b[38;5;124;03m  The response code.\u001b[39;00m\n\u001b[1;32m    522\u001b[0m \u001b[38;5;124;03m\"\"\"\u001b[39;00m\n\u001b[1;32m    523\u001b[0m \u001b[38;5;28mself\u001b[39m\u001b[38;5;241m.\u001b[39mvoidcmd(\u001b[38;5;124m'\u001b[39m\u001b[38;5;124mTYPE A\u001b[39m\u001b[38;5;124m'\u001b[39m)\n\u001b[0;32m--> 524\u001b[0m \u001b[38;5;28;01mwith\u001b[39;00m \u001b[38;5;28;43mself\u001b[39;49m\u001b[38;5;241;43m.\u001b[39;49m\u001b[43mtransfercmd\u001b[49m\u001b[43m(\u001b[49m\u001b[43mcmd\u001b[49m\u001b[43m)\u001b[49m \u001b[38;5;28;01mas\u001b[39;00m conn:\n\u001b[1;32m    525\u001b[0m     \u001b[38;5;28;01mwhile\u001b[39;00m \u001b[38;5;241m1\u001b[39m:\n\u001b[1;32m    526\u001b[0m         buf \u001b[38;5;241m=\u001b[39m fp\u001b[38;5;241m.\u001b[39mreadline(\u001b[38;5;28mself\u001b[39m\u001b[38;5;241m.\u001b[39mmaxline \u001b[38;5;241m+\u001b[39m \u001b[38;5;241m1\u001b[39m)\n",
      "File \u001b[0;32m/opt/homebrew/Cellar/python@3.10/3.10.8/Frameworks/Python.framework/Versions/3.10/lib/python3.10/ftplib.py:393\u001b[0m, in \u001b[0;36mFTP.transfercmd\u001b[0;34m(self, cmd, rest)\u001b[0m\n\u001b[1;32m    391\u001b[0m \u001b[38;5;28;01mdef\u001b[39;00m \u001b[38;5;21mtransfercmd\u001b[39m(\u001b[38;5;28mself\u001b[39m, cmd, rest\u001b[38;5;241m=\u001b[39m\u001b[38;5;28;01mNone\u001b[39;00m):\n\u001b[1;32m    392\u001b[0m     \u001b[38;5;124;03m\"\"\"Like ntransfercmd() but returns only the socket.\"\"\"\u001b[39;00m\n\u001b[0;32m--> 393\u001b[0m     \u001b[38;5;28;01mreturn\u001b[39;00m \u001b[38;5;28;43mself\u001b[39;49m\u001b[38;5;241;43m.\u001b[39;49m\u001b[43mntransfercmd\u001b[49m\u001b[43m(\u001b[49m\u001b[43mcmd\u001b[49m\u001b[43m,\u001b[49m\u001b[43m \u001b[49m\u001b[43mrest\u001b[49m\u001b[43m)\u001b[49m[\u001b[38;5;241m0\u001b[39m]\n",
      "File \u001b[0;32m/opt/homebrew/Cellar/python@3.10/3.10.8/Frameworks/Python.framework/Versions/3.10/lib/python3.10/ftplib.py:359\u001b[0m, in \u001b[0;36mFTP.ntransfercmd\u001b[0;34m(self, cmd, rest)\u001b[0m\n\u001b[1;32m    357\u001b[0m \u001b[38;5;28;01mif\u001b[39;00m rest \u001b[38;5;129;01mis\u001b[39;00m \u001b[38;5;129;01mnot\u001b[39;00m \u001b[38;5;28;01mNone\u001b[39;00m:\n\u001b[1;32m    358\u001b[0m     \u001b[38;5;28mself\u001b[39m\u001b[38;5;241m.\u001b[39msendcmd(\u001b[38;5;124m\"\u001b[39m\u001b[38;5;124mREST \u001b[39m\u001b[38;5;132;01m%s\u001b[39;00m\u001b[38;5;124m\"\u001b[39m \u001b[38;5;241m%\u001b[39m rest)\n\u001b[0;32m--> 359\u001b[0m resp \u001b[38;5;241m=\u001b[39m \u001b[38;5;28;43mself\u001b[39;49m\u001b[38;5;241;43m.\u001b[39;49m\u001b[43msendcmd\u001b[49m\u001b[43m(\u001b[49m\u001b[43mcmd\u001b[49m\u001b[43m)\u001b[49m\n\u001b[1;32m    360\u001b[0m \u001b[38;5;66;03m# Some servers apparently send a 200 reply to\u001b[39;00m\n\u001b[1;32m    361\u001b[0m \u001b[38;5;66;03m# a LIST or STOR command, before the 150 reply\u001b[39;00m\n\u001b[1;32m    362\u001b[0m \u001b[38;5;66;03m# (and way before the 226 reply). This seems to\u001b[39;00m\n\u001b[1;32m    363\u001b[0m \u001b[38;5;66;03m# be in violation of the protocol (which only allows\u001b[39;00m\n\u001b[1;32m    364\u001b[0m \u001b[38;5;66;03m# 1xx or error messages for LIST), so we just discard\u001b[39;00m\n\u001b[1;32m    365\u001b[0m \u001b[38;5;66;03m# this response.\u001b[39;00m\n\u001b[1;32m    366\u001b[0m \u001b[38;5;28;01mif\u001b[39;00m resp[\u001b[38;5;241m0\u001b[39m] \u001b[38;5;241m==\u001b[39m \u001b[38;5;124m'\u001b[39m\u001b[38;5;124m2\u001b[39m\u001b[38;5;124m'\u001b[39m:\n",
      "File \u001b[0;32m/opt/homebrew/Cellar/python@3.10/3.10.8/Frameworks/Python.framework/Versions/3.10/lib/python3.10/ftplib.py:280\u001b[0m, in \u001b[0;36mFTP.sendcmd\u001b[0;34m(self, cmd)\u001b[0m\n\u001b[1;32m    278\u001b[0m \u001b[38;5;28;01mdef\u001b[39;00m \u001b[38;5;21msendcmd\u001b[39m(\u001b[38;5;28mself\u001b[39m, cmd):\n\u001b[1;32m    279\u001b[0m     \u001b[38;5;124;03m'''Send a command and return the response.'''\u001b[39;00m\n\u001b[0;32m--> 280\u001b[0m     \u001b[38;5;28;43mself\u001b[39;49m\u001b[38;5;241;43m.\u001b[39;49m\u001b[43mputcmd\u001b[49m\u001b[43m(\u001b[49m\u001b[43mcmd\u001b[49m\u001b[43m)\u001b[49m\n\u001b[1;32m    281\u001b[0m     \u001b[38;5;28;01mreturn\u001b[39;00m \u001b[38;5;28mself\u001b[39m\u001b[38;5;241m.\u001b[39mgetresp()\n",
      "File \u001b[0;32m/opt/homebrew/Cellar/python@3.10/3.10.8/Frameworks/Python.framework/Versions/3.10/lib/python3.10/ftplib.py:207\u001b[0m, in \u001b[0;36mFTP.putcmd\u001b[0;34m(self, line)\u001b[0m\n\u001b[1;32m    205\u001b[0m \u001b[38;5;28;01mdef\u001b[39;00m \u001b[38;5;21mputcmd\u001b[39m(\u001b[38;5;28mself\u001b[39m, line):\n\u001b[1;32m    206\u001b[0m     \u001b[38;5;28;01mif\u001b[39;00m \u001b[38;5;28mself\u001b[39m\u001b[38;5;241m.\u001b[39mdebugging: \u001b[38;5;28mprint\u001b[39m(\u001b[38;5;124m'\u001b[39m\u001b[38;5;124m*cmd*\u001b[39m\u001b[38;5;124m'\u001b[39m, \u001b[38;5;28mself\u001b[39m\u001b[38;5;241m.\u001b[39msanitize(line))\n\u001b[0;32m--> 207\u001b[0m     \u001b[38;5;28;43mself\u001b[39;49m\u001b[38;5;241;43m.\u001b[39;49m\u001b[43mputline\u001b[49m\u001b[43m(\u001b[49m\u001b[43mline\u001b[49m\u001b[43m)\u001b[49m\n",
      "File \u001b[0;32m/opt/homebrew/Cellar/python@3.10/3.10.8/Frameworks/Python.framework/Versions/3.10/lib/python3.10/ftplib.py:196\u001b[0m, in \u001b[0;36mFTP.putline\u001b[0;34m(self, line)\u001b[0m\n\u001b[1;32m    195\u001b[0m \u001b[38;5;28;01mdef\u001b[39;00m \u001b[38;5;21mputline\u001b[39m(\u001b[38;5;28mself\u001b[39m, line):\n\u001b[0;32m--> 196\u001b[0m     \u001b[38;5;28;01mif\u001b[39;00m \u001b[38;5;124;43m'\u001b[39;49m\u001b[38;5;130;43;01m\\r\u001b[39;49;00m\u001b[38;5;124;43m'\u001b[39;49m\u001b[43m \u001b[49m\u001b[38;5;129;43;01min\u001b[39;49;00m\u001b[43m \u001b[49m\u001b[43mline\u001b[49m \u001b[38;5;129;01mor\u001b[39;00m \u001b[38;5;124m'\u001b[39m\u001b[38;5;130;01m\\n\u001b[39;00m\u001b[38;5;124m'\u001b[39m \u001b[38;5;129;01min\u001b[39;00m line:\n\u001b[1;32m    197\u001b[0m         \u001b[38;5;28;01mraise\u001b[39;00m \u001b[38;5;167;01mValueError\u001b[39;00m(\u001b[38;5;124m'\u001b[39m\u001b[38;5;124man illegal newline character should not be contained\u001b[39m\u001b[38;5;124m'\u001b[39m)\n\u001b[1;32m    198\u001b[0m     sys\u001b[38;5;241m.\u001b[39maudit(\u001b[38;5;124m\"\u001b[39m\u001b[38;5;124mftplib.sendcmd\u001b[39m\u001b[38;5;124m\"\u001b[39m, \u001b[38;5;28mself\u001b[39m, line)\n",
      "\u001b[0;31mTypeError\u001b[0m: a bytes-like object is required, not 'str'"
     ]
    }
   ],
   "source": [
    "import tempfile\n",
    "\n",
    "with FTP(nitrado_ftp_url) as ftp:\n",
    "    ftp.login(\n",
    "        user = ftp_config['DEFAULT']['username'], \n",
    "        passwd = ftp_config['DEFAULT']['password']\n",
    "    )\n",
    "    with open('test.ini', 'w') as f:\n",
    "        pz_config.write(f)\n",
    "\n",
    "    with open('test.ini', 'rb') as f:\n",
    "        ftp.storlines(cmd=b'STOR /foobar.txt', fp=f)"
   ]
  },
  {
   "cell_type": "code",
   "execution_count": null,
   "id": "377507a7-416f-4531-aa7c-983faab1738d",
   "metadata": {},
   "outputs": [],
   "source": []
  }
 ],
 "metadata": {
  "kernelspec": {
   "display_name": "Python 3 (ipykernel)",
   "language": "python",
   "name": "python3"
  },
  "language_info": {
   "codemirror_mode": {
    "name": "ipython",
    "version": 3
   },
   "file_extension": ".py",
   "mimetype": "text/x-python",
   "name": "python",
   "nbconvert_exporter": "python",
   "pygments_lexer": "ipython3",
   "version": "3.10.8"
  }
 },
 "nbformat": 4,
 "nbformat_minor": 5
}
