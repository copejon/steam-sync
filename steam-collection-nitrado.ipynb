{
 "cells": [
  {
   "cell_type": "code",
   "execution_count": null,
   "id": "0f1a93f3",
   "metadata": {
    "tags": []
   },
   "outputs": [],
   "source": [
    "%pip install -r requirements.txt\n",
    "# %pip install nitrado \"steam[client]\" requests python-dotenv\n",
    "%config IPCompleter.greedy=True"
   ]
  },
  {
   "cell_type": "markdown",
   "id": "8643bbb6",
   "metadata": {},
   "source": [
    "**1> collate workshop_id to mod_id(s) from source of truth collection**"
   ]
  },
  {
   "cell_type": "code",
   "execution_count": null,
   "id": "eb5dc1f4",
   "metadata": {
    "tags": []
   },
   "outputs": [],
   "source": [
    "# Find and collate workshop_ids: mod_ids, store \n",
    "#data in an output var\n",
    "import requests\n",
    "import re\n",
    "from os import path\n",
    "\n",
    "collection_id = '2903054110'\n",
    "getCollections = 'https://api.steampowered.com/ISteamRemoteStorage/GetCollectionDetails/v1/?'\n",
    "getFileDetails = 'https://api.steampowered.com/ISteamRemoteStorage/GetPublishedFileDetails/v1/?'\n",
    "\n",
    "\n",
    "home_dir = path.expanduser('~')\n",
    "print(f'user home dir:{home_dir}')\n",
    "\n",
    "# output contains the resulting list of tuples [(workshop_id, mod_id, mod_id, ...), ...] produced\n",
    "# in this sell.\n",
    "output = list()\n",
    "\n",
    "# collection_data is a locally consumed var and contains the post-processed collection metadata response\n",
    "collection_data = list()\n",
    "with open(path.join(home_dir, '.steam', 'token'), 'r') as f:\n",
    "    auth_header = {'Authentication': f'Bearer {f.read().strip()}'}\n",
    "    resp = requests.post(\n",
    "        getCollections, \n",
    "        headers=auth_header,\n",
    "        data={\n",
    "            'publishedfileids[0]':f'{collection_id}',\n",
    "            'collectioncount': '1',\n",
    "        }\n",
    "    )\n",
    "    collection_data = resp.json()['response']['collectiondetails']\n",
    "\n",
    "\n",
    "for child in collection_data[0]['children']:\n",
    "    child_id = child[\"publishedfileid\"]\n",
    "    resp = requests.post(\n",
    "        getFileDetails,\n",
    "        headers=auth_header,\n",
    "        data={\n",
    "            'itemcount': '1',\n",
    "            'publishedfileids[0]': child_id,\n",
    "        }\n",
    "    )\n",
    "    desc = resp.json()['response']['publishedfiledetails'][0]['description']\n",
    "    match = re.findall(r'\\nMod ID: *(\\w+)', desc)\n",
    "    if match is None:\n",
    "        print(f'failed to find matching mod id string, mod file: {child_id}')\n",
    "        quit(1)\n",
    "\n",
    "    o = [child_id]\n",
    "    for m in match:\n",
    "        o.append(m)\n",
    "    print(o)\n",
    "    output.append(tuple(o))"
   ]
  },
  {
   "cell_type": "markdown",
   "id": "bd9bcb47-798c-48b8-9953-3ebc775c1b56",
   "metadata": {},
   "source": [
    "**^^TODO create radial buttons per mod, per variant**\n",
    "\n",
    "**2> Fetch the server config file**"
   ]
  },
  {
   "cell_type": "code",
   "execution_count": null,
   "id": "a6cc5f71",
   "metadata": {
    "tags": []
   },
   "outputs": [],
   "source": [
    "from os import path\n",
    "from ftplib import FTP\n",
    "from configparser import ConfigParser, MissingSectionHeaderError\n",
    "import io\n",
    "import re\n",
    "\n",
    "nitrado_dir = path.join(home_dir, \".nitrado\")\n",
    "nitrado_ftp_url = 'usmi440.gamedata.io'\n",
    "ftp_config = ConfigParser()\n",
    "ftp_config.read(path.join(nitrado_dir, \"ftp.ini\"))\n",
    "section = 'dummy'\n",
    "\n",
    "\n",
    "pz_cfg_src = path.join('/zomboid/profile/Zomboid/Server/servertest.ini')\n",
    "pz_config = ConfigParser(allow_no_value=True)\n",
    "\n",
    "buf = io.BytesIO()\n",
    "buf.write(f'[{section}]\\n'.encode())\n",
    "with FTP(nitrado_ftp_url) as ftp:\n",
    "    ftp.login(\n",
    "        user = ftp_config['DEFAULT']['username'], \n",
    "        passwd = ftp_config['DEFAULT']['password']\n",
    "    )\n",
    "    ftp.retrbinary(f'RETR {pz_cfg_src}', buf.write)\n",
    "    buf.seek(0, io.SEEK_SET)\n",
    "\n",
    "# Remember to remove the dummy section header before writing file to ftp\n",
    "pz_config.read_string(buf.read().decode())"
   ]
  },
  {
   "cell_type": "markdown",
   "id": "31c7f877-5a0d-47bc-a445-c013f9b43342",
   "metadata": {},
   "source": [
    "**3> Merge the collection into the pz_config vars**"
   ]
  },
  {
   "cell_type": "code",
   "execution_count": null,
   "id": "c8a3b7ef",
   "metadata": {
    "tags": []
   },
   "outputs": [],
   "source": [
    "mod_list_sep = ','\n",
    "ws_item_sep = ';'\n",
    "\n",
    "\n",
    "merge_mods = pz_config[f'{section}']['mods'].split(mod_list_sep)\n",
    "merge_ws_items = pz_config[f'{section}']['workshopitems'].split(ws_item_sep)\n",
    "\n",
    "# Add new mods (i.e. mods not found in the config)\n",
    "for o in output:\n",
    "    ws_item = o[0]\n",
    "    mods = o[1:]\n",
    "    print(f'processing: {ws_item}: {mods}')\n",
    "    if ws_item not in merge_ws_items:\n",
    "        print(f\"{ws_item}({mods[0]}) not found, appending\")\n",
    "        merge_ws_items.append(ws_item)\n",
    "        merge_mods.append(mods[0])\n",
    "    else:\n",
    "        continue\n",
    "        print(f'{ws_item} already added, skipping')\n",
    "        \n",
    "# Remove old mods (i.e. mods not found in the collection)\n",
    "for i in range(len(merge_ws_items) - 1):\n",
    "    if i < 0:\n",
    "        print('got zero len list')\n",
    "        quit()\n",
    "    # TODO this should not default to first mod variant.\n",
    "    if merge_ws_items[i] not in [o[0] for o in output]:\n",
    "        print(f'workshopitem {merge_ws_items[i]}({merge_mods[i]}) not found in existing config, removing')\n",
    "        del merge_ws_items[i]\n",
    "        del merge_mods[i]\n",
    "        \n",
    "if len(merge_mods) is not len(merge_ws_items):\n",
    "    print(f'something went wrong, len(merge_mods)[{len(merge_mods)}] != len(merge_ws_items)[{len(merge_ws_items)}]')\n",
    "    quit(1)\n",
    "\n",
    "# We're ready to go"
   ]
  },
  {
   "cell_type": "code",
   "execution_count": null,
   "id": "12cbb3d4",
   "metadata": {},
   "outputs": [],
   "source": [
    "DEBUG = True"
   ]
  },
  {
   "cell_type": "markdown",
   "id": "cffd896d-c6a0-4799-ac80-11ab5503288b",
   "metadata": {},
   "source": [
    "**4> Write the pz config back to the ftp**"
   ]
  },
  {
   "cell_type": "code",
   "execution_count": null,
   "id": "09430aa7-b195-4ede-b638-f896a9011e67",
   "metadata": {},
   "outputs": [],
   "source": [
    "import tempfile\n",
    "from io import SEEK_SET\n",
    "import os\n",
    "\n",
    "# skip the hacky section header\n",
    "buf.seek(0, SEEK_SET)\n",
    "buf.readline()\n",
    "\n",
    "new_mods = mod_list_sep.join(merge_mods)\n",
    "new_ws_ids = ws_item_sep.join(merge_ws_items)\n",
    "if DEBUG:\n",
    "    print(f'new_mods={new_mods}')\n",
    "    print(f'new_ws={new_ws_ids}')\n",
    "    print('----------------------')\n",
    "\n",
    "out_cfg = re.sub(fr'\\nMods=[a-zA-Z0-9{mod_list_sep}]*', repl=f'\\nMods={new_mods}', string=buf.read().decode())\n",
    "out_cfg = re.sub(fr'\\nWorkshopItems=[0-9{ws_item_sep}]*', repl=f'\\nWorkshopItems={new_ws_ids}', string=out_cfg)\n",
    "if DEBUG:\n",
    "    print(out_cfg)\n",
    "    print(\"======================\")\n",
    "\n",
    "    print_m = re.search(fr'(\\nMods=[a-zA-Z0-9{mod_list_sep}]*\\n)', out_cfg)\n",
    "    if print_m is not None:\n",
    "        print(print_m.group(0))\n",
    "    print_w = re.search(fr'\\nWorkshopItems=[a-zA-Z0-9{ws_item_sep}]*\\n', out_cfg)\n",
    "    \n",
    "    print(print_w.group(0))\n",
    "\n",
    "# TODO fix the FTP upload path\n",
    "with FTP(nitrado_ftp_url) as ftp:\n",
    "    ftp.login(\n",
    "        user = ftp_config['DEFAULT']['username'], \n",
    "        passwd = ftp_config['DEFAULT']['password']\n",
    "    )\n",
    "    out_buf = io.StringIO()\n",
    "    out_buf.write(out_cfg)\n",
    "    out_buf.seek(0, SEEK_SET)\n",
    "    with open(os.path.join(home_dir, 'servertest.ini'), 'w') as f:\n",
    "        if DEBUG:\n",
    "            f.write(out_buf.getvalue())\n",
    "        else:\n",
    "            ftp.storlines(cmd=f'STOR {pz_cfg_src}', fp=io.BytesIO(out_buf.getvalue().encode()))"
   ]
  }
 ],
 "metadata": {
  "kernelspec": {
   "display_name": "Python 3 (ipykernel)",
   "language": "python",
   "name": "python3"
  },
  "language_info": {
   "codemirror_mode": {
    "name": "ipython",
    "version": 3
   },
   "file_extension": ".py",
   "mimetype": "text/x-python",
   "name": "python",
   "nbconvert_exporter": "python",
   "pygments_lexer": "ipython3",
   "version": "3.10.7"
  },
  "vscode": {
   "interpreter": {
    "hash": "9eff8b61c29c73371c0b085139175c0b838fc89e2c580662ee0d556e5c6992e2"
   }
  }
 },
 "nbformat": 4,
 "nbformat_minor": 5
}
