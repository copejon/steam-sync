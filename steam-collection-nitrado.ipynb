{
 "cells": [
  {
   "cell_type": "code",
   "execution_count": null,
   "id": "0f1a93f3",
   "metadata": {
    "tags": []
   },
   "outputs": [],
   "source": [
    "%pip install -r requirements.txt\n",
    "%config IPCompleter.greedy=True"
   ]
  },
  {
   "cell_type": "code",
   "execution_count": null,
   "id": "de165324",
   "metadata": {},
   "outputs": [],
   "source": [
    "DEBUG = False\n",
    "_doDebug = input('Debug mode [y/n]: ')\n",
    "if _doDebug.lower() == 'y':\n",
    "    DEBUG = True\n",
    "elif _doDebug != 'n':\n",
    "    print(f'response \"{_doDebug}\" not understood')"
   ]
  },
  {
   "cell_type": "markdown",
   "id": "8643bbb6",
   "metadata": {},
   "source": [
    "**1> collate workshop_id to mod_id(s) from source of truth collection**"
   ]
  },
  {
   "cell_type": "code",
   "execution_count": null,
   "id": "eb5dc1f4",
   "metadata": {
    "tags": []
   },
   "outputs": [],
   "source": [
    "# Find and collate workshop_ids: mod_ids, store \n",
    "#data in an collection var\n",
    "import requests\n",
    "import re\n",
    "from os import path\n",
    "\n",
    "collection_id = '2903054110'\n",
    "getCollections = 'https://api.steampowered.com/ISteamRemoteStorage/GetCollectionDetails/v1/?'\n",
    "getFileDetails = 'https://api.steampowered.com/ISteamRemoteStorage/GetPublishedFileDetails/v1/?'\n",
    "\n",
    "home_dir = path.expanduser('~')\n",
    "print(f'user home dir:{home_dir}')\n",
    "\n",
    "# collection contains the resulting list of tuples [(workshop_id, mod_id, mod_id, ...), ...] produced\n",
    "# in this sell.\n",
    "collection = list()\n",
    "\n",
    "# raw_collection is a locally consumed var and contains the post-processed collection metadata response\n",
    "raw_collection = list()\n",
    "with open(path.join(home_dir, '.steam', 'token'), 'r') as f:\n",
    "    auth_header = {'Authentication': f'Bearer {f.read().strip()}'}\n",
    "    resp = requests.post(\n",
    "        getCollections, \n",
    "        headers=auth_header,\n",
    "        data={\n",
    "            'publishedfileids[0]':f'{collection_id}',\n",
    "            'collectioncount': '1',\n",
    "        }\n",
    "    )\n",
    "    raw_collection = list(resp.json()['response']['collectiondetails'])\n",
    "\n",
    "\n",
    "for child in raw_collection[0]['children']:\n",
    "    child_id = child[\"publishedfileid\"]\n",
    "    resp = requests.post(\n",
    "        getFileDetails,\n",
    "        headers=auth_header,\n",
    "        data={\n",
    "            'itemcount': '1',\n",
    "            'publishedfileids[0]': child_id,\n",
    "        }\n",
    "    )\n",
    "    desc = resp.json()['response']['publishedfiledetails'][0]['description']\n",
    "    match = re.findall(r'^Mod ID: .*', desc, flags=re.MULTILINE)\n",
    "    if len(match) == 0:\n",
    "        print(f'failed to find matching mod id string, mod file: {child_id}')\n",
    "        break\n",
    "\n",
    "    o = [child_id]\n",
    "    for m in match:\n",
    "        o.append(m)\n",
    "    collection.append(tuple(o))\n",
    "if len(collection) == 0:\n",
    "    print('error')\n",
    "    quit()\n",
    "print(f'got upstream collection: {collection}')"
   ]
  },
  {
   "cell_type": "markdown",
   "id": "bd9bcb47-798c-48b8-9953-3ebc775c1b56",
   "metadata": {},
   "source": [
    "**^^TODO create radial buttons per mod, per variant**\n",
    "\n",
    "**2> Fetch the server config file**"
   ]
  },
  {
   "cell_type": "code",
   "execution_count": null,
   "id": "a6cc5f71",
   "metadata": {
    "tags": []
   },
   "outputs": [],
   "source": [
    "from os import path\n",
    "from ftplib import FTP\n",
    "from configparser import ConfigParser\n",
    "import io\n",
    "import re\n",
    "\n",
    "nitrado_dir = path.join(home_dir, \".nitrado\")\n",
    "nitrado_ftp_url = 'usmi440.gamedata.io'\n",
    "ftp_config = ConfigParser()\n",
    "ftp_config.read(path.join(nitrado_dir, \"ftp.ini\"))\n",
    "\n",
    "pz_cfg_src = '/zomboid/profile/Zomboid/Server/servertest.ini'\n",
    "\n",
    "buf = io.BytesIO()\n",
    "with FTP(nitrado_ftp_url) as ftp:\n",
    "    print('logging into ftp server')\n",
    "    ftp.login(\n",
    "        user = ftp_config['DEFAULT']['username'], \n",
    "        passwd = ftp_config['DEFAULT']['password']\n",
    "    )\n",
    "    print('fetching servertest.ini')\n",
    "    try:\n",
    "        ftp.retrlines(f'LIST {pz_cfg_src}')\n",
    "        ftp.retrbinary(f'RETR {pz_cfg_src}', buf.write)\n",
    "    except Exception as e:\n",
    "        print(e)\n",
    "        quit()\n",
    "    buf.seek(0)"
   ]
  },
  {
   "cell_type": "markdown",
   "id": "31c7f877-5a0d-47bc-a445-c013f9b43342",
   "metadata": {},
   "source": [
    "**3> Merge the collection into the pz_config vars**"
   ]
  },
  {
   "cell_type": "code",
   "execution_count": null,
   "id": "c8a3b7ef",
   "metadata": {
    "tags": []
   },
   "outputs": [],
   "source": [
    "import re\n",
    "\n",
    "list_sep = ';'\n",
    "\n",
    "# cur_[mods|wsi] contains the mods|WSIs currently enabled on the server\n",
    "cur_mods = re.search(r'Mods=(.*)', buf.getvalue().decode()).group(0)\n",
    "cur_mods = re.sub(r'Mods=(.*)', r'\\1', cur_mods).split(list_sep)\n",
    "cur_wsi = re.findall(r'WorkshopItems=([0-9;]*)', buf.getvalue().decode())[1].split(list_sep) # we only want the 2nd occurance of the string, first found is an example stub\n",
    "print(f'Found current mods: {cur_mods}')\n",
    "print(f'Found current WSIs: {cur_wsi}')\n",
    "\n",
    "# Add new mods (i.e. mods not found in the config)\n",
    "for c in collection:\n",
    "    ws_item = c[0]\n",
    "    mods = c[1:]\n",
    "    print(f'processing: {ws_item}: {mods}')\n",
    "    if ws_item not in cur_wsi:\n",
    "        if ws_item.strip() == \"\":\n",
    "            print('skipping null entry')\n",
    "            continue\n",
    "\n",
    "        print(f\"{ws_item}({mods[0]}) not found, appending\")\n",
    "        cur_wsi.append(ws_item)\n",
    "        cur_mods.append(mods[0])\n",
    "    else:\n",
    "        print(f'{ws_item} already added, skipping')\n",
    "        continue\n",
    "        \n",
    "# Remove old mods (i.e. mods not found in the collection)\n",
    "for i, wsi in enumerate(cur_wsi):\n",
    "    # TODO this should not default to first mod variant.\n",
    "    if wsi not in [o[0] for o in collection]:\n",
    "        print(f'workshopitem {cur_wsi[i]}({cur_mods[i]}) not found in existing config, removing')\n",
    "        del cur_wsi[i]\n",
    "        del cur_mods[i]\n",
    "\n",
    "print(\"Sync completed\")\n",
    "print(f'PROCESSED mods: {cur_mods}')\n",
    "print(f'PROCESSED WSIs  : {cur_wsi}')\n",
    "\n",
    "if len(cur_mods) is not len(cur_wsi):\n",
    "    print(f'something went wrong, len(merge_mods)[{len(cur_mods)}] != len(merge_ws_items)[{len(cur_wsi)}]')\n",
    "    quit(1)"
   ]
  },
  {
   "cell_type": "markdown",
   "id": "cffd896d-c6a0-4799-ac80-11ab5503288b",
   "metadata": {},
   "source": [
    "**4> Write the pz config back to the ftp**"
   ]
  },
  {
   "cell_type": "code",
   "execution_count": null,
   "id": "09430aa7-b195-4ede-b638-f896a9011e67",
   "metadata": {},
   "outputs": [],
   "source": [
    "import tempfile\n",
    "from io import SEEK_SET\n",
    "import os\n",
    "\n",
    "list_sep=';'\n",
    "\n",
    "\n",
    "mods_str = list_sep.join(cur_mods)\n",
    "wsi_str = list_sep.join(cur_wsi)\n",
    "\n",
    "print('updating in-memory config')\n",
    "out_cfg = re.sub(fr'(\\nMods=).*', repl=fr'\\1{mods_str}', string=buf.getvalue().decode())\n",
    "out_cfg = re.sub(fr'(\\nWorkshopItems)=.*', repl=fr'\\1={wsi_str}', string=out_cfg)\n",
    "\n",
    "# print(f'out_cfg chunk: {out_cfg[12180:121100].encode()}')\n",
    "if len(out_cfg.strip()) == 0:\n",
    "    print('got an empty config string, bailing out')\n",
    "    quit(1)\n",
    "\n",
    "with FTP(nitrado_ftp_url) as ftp:\n",
    "    print('writing out config')\n",
    "    ftp.login(\n",
    "        user = ftp_config['DEFAULT']['username'],\n",
    "        passwd = ftp_config['DEFAULT']['password']\n",
    "    )\n",
    "    out_buf = io.BytesIO()\n",
    "    out_buf.write(out_cfg.encode(encoding='utf-8'))\n",
    "    out_buf.seek(0, SEEK_SET)\n",
    "    if DEBUG:\n",
    "        # print(f'out_buf:\\n{out_buf.getvalue()}')\n",
    "        with open('servertest.ini', 'w', encoding='utf-8') as f:\n",
    "            f.write(out_buf.getvalue().decode())\n",
    "        print('DEBUG was enabled, ending processing here')\n",
    "    elif len(out_buf.getvalue().strip()) == 0:\n",
    "        print('generated busted file, quitting without writing')\n",
    "    else:\n",
    "        print(f'Mods={mods_str}')\n",
    "        print(f'WorkshopItems={wsi_str}')\n",
    "        def encodeLine(l:str) -> bytes:\n",
    "            return l.encode(encoding='utf-8')\n",
    "        print('transmitting to ftp remote')\n",
    "        ftp.storlines(cmd=f'STOR {pz_cfg_src}', fp=out_buf)"
   ]
  }
 ],
 "metadata": {
  "kernelspec": {
   "display_name": "venv",
   "language": "python",
   "name": "python3"
  },
  "language_info": {
   "codemirror_mode": {
    "name": "ipython",
    "version": 3
   },
   "file_extension": ".py",
   "mimetype": "text/x-python",
   "name": "python",
   "nbconvert_exporter": "python",
   "pygments_lexer": "ipython3",
   "version": "3.10.7"
  },
  "vscode": {
   "interpreter": {
    "hash": "9eff8b61c29c73371c0b085139175c0b838fc89e2c580662ee0d556e5c6992e2"
   }
  }
 },
 "nbformat": 4,
 "nbformat_minor": 5
}
