{
 "cells": [
  {
   "cell_type": "code",
   "execution_count": 2,
   "metadata": {},
   "outputs": [
    {
     "name": "stderr",
     "output_type": "stream",
     "text": [
      "fatal: destination path 'steam-sync' already exists and is not an empty directory.\n"
     ]
    },
    {
     "ename": "OSError",
     "evalue": "Background processes not supported.",
     "output_type": "error",
     "traceback": [
      "\u001b[1;31m---------------------------------------------------------------------------\u001b[0m",
      "\u001b[1;31mOSError\u001b[0m                                   Traceback (most recent call last)",
      "Cell \u001b[1;32mIn[2], line 2\u001b[0m\n\u001b[0;32m      1\u001b[0m get_ipython()\u001b[39m.\u001b[39msystem(\u001b[39m'\u001b[39m\u001b[39mgit clone https://github.com/copejon/steam-sync.git\u001b[39m\u001b[39m'\u001b[39m)\n\u001b[1;32m----> 2\u001b[0m get_ipython()\u001b[39m.\u001b[39;49msystem(\u001b[39m'\u001b[39;49m\u001b[39mjupyter-lab ./steam-collection-nitrado.ipynb &\u001b[39;49m\u001b[39m'\u001b[39;49m)\n",
      "File \u001b[1;32mc:\\Users\\GameBox\\Workspace\\github.com\\copejon\\steam-sync\\venv\\lib\\site-packages\\ipykernel\\zmqshell.py:619\u001b[0m, in \u001b[0;36mZMQInteractiveShell.system_piped\u001b[1;34m(self, cmd)\u001b[0m\n\u001b[0;32m    604\u001b[0m \u001b[39m\"\"\"Call the given cmd in a subprocess, piping stdout/err\u001b[39;00m\n\u001b[0;32m    605\u001b[0m \n\u001b[0;32m    606\u001b[0m \u001b[39mParameters\u001b[39;00m\n\u001b[1;32m   (...)\u001b[0m\n\u001b[0;32m    611\u001b[0m \u001b[39m    other than simple text.\u001b[39;00m\n\u001b[0;32m    612\u001b[0m \u001b[39m\"\"\"\u001b[39;00m\n\u001b[0;32m    613\u001b[0m \u001b[39mif\u001b[39;00m cmd\u001b[39m.\u001b[39mrstrip()\u001b[39m.\u001b[39mendswith(\u001b[39m\"\u001b[39m\u001b[39m&\u001b[39m\u001b[39m\"\u001b[39m):\n\u001b[0;32m    614\u001b[0m     \u001b[39m# this is *far* from a rigorous test\u001b[39;00m\n\u001b[0;32m    615\u001b[0m     \u001b[39m# We do not support backgrounding processes because we either use\u001b[39;00m\n\u001b[0;32m    616\u001b[0m     \u001b[39m# pexpect or pipes to read from.  Users can always just call\u001b[39;00m\n\u001b[0;32m    617\u001b[0m     \u001b[39m# os.system() or use ip.system=ip.system_raw\u001b[39;00m\n\u001b[0;32m    618\u001b[0m     \u001b[39m# if they really want a background process.\u001b[39;00m\n\u001b[1;32m--> 619\u001b[0m     \u001b[39mraise\u001b[39;00m \u001b[39mOSError\u001b[39;00m(\u001b[39m\"\u001b[39m\u001b[39mBackground processes not supported.\u001b[39m\u001b[39m\"\u001b[39m)\n\u001b[0;32m    621\u001b[0m \u001b[39m# we explicitly do NOT return the subprocess status code, because\u001b[39;00m\n\u001b[0;32m    622\u001b[0m \u001b[39m# a non-None value would trigger :func:`sys.displayhook` calls.\u001b[39;00m\n\u001b[0;32m    623\u001b[0m \u001b[39m# Instead, we store the exit_code in user_ns.\u001b[39;00m\n\u001b[0;32m    624\u001b[0m \u001b[39m# Also, protect system call from UNC paths on Windows here too\u001b[39;00m\n\u001b[0;32m    625\u001b[0m \u001b[39m# as is done in InteractiveShell.system_raw\u001b[39;00m\n\u001b[0;32m    626\u001b[0m \u001b[39mif\u001b[39;00m sys\u001b[39m.\u001b[39mplatform \u001b[39m==\u001b[39m \u001b[39m\"\u001b[39m\u001b[39mwin32\u001b[39m\u001b[39m\"\u001b[39m:\n",
      "\u001b[1;31mOSError\u001b[0m: Background processes not supported."
     ]
    }
   ],
   "source": [
    "!git clone https://github.com/copejon/steam-sync.git\n",
    "!jupyter-lab ./steam-collection-nitrado.ipynb"
   ]
  }
 ],
 "metadata": {
  "kernelspec": {
   "display_name": "venv",
   "language": "python",
   "name": "python3"
  },
  "language_info": {
   "codemirror_mode": {
    "name": "ipython",
    "version": 3
   },
   "file_extension": ".py",
   "mimetype": "text/x-python",
   "name": "python",
   "nbconvert_exporter": "python",
   "pygments_lexer": "ipython3",
   "version": "3.10.7"
  },
  "orig_nbformat": 4,
  "vscode": {
   "interpreter": {
    "hash": "9eff8b61c29c73371c0b085139175c0b838fc89e2c580662ee0d556e5c6992e2"
   }
  }
 },
 "nbformat": 4,
 "nbformat_minor": 2
}
